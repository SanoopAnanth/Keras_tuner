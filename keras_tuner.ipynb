{
  "nbformat": 4,
  "nbformat_minor": 0,
  "metadata": {
    "colab": {
      "provenance": [],
      "authorship_tag": "ABX9TyMTHNK8U8hdHsoz1EVZ5uR1",
      "include_colab_link": true
    },
    "kernelspec": {
      "name": "python3",
      "display_name": "Python 3"
    },
    "language_info": {
      "name": "python"
    }
  },
  "cells": [
    {
      "cell_type": "markdown",
      "metadata": {
        "id": "view-in-github",
        "colab_type": "text"
      },
      "source": [
        "<a href=\"https://colab.research.google.com/github/SanoopAnanth/Keras_tuner/blob/main/keras_tuner.ipynb\" target=\"_parent\"><img src=\"https://colab.research.google.com/assets/colab-badge.svg\" alt=\"Open In Colab\"/></a>"
      ]
    },
    {
      "cell_type": "code",
      "execution_count": null,
      "metadata": {
        "id": "NsOjZ5HMQLA8"
      },
      "outputs": [],
      "source": [
        "import numpy as np\n",
        "import pandas as pd"
      ]
    },
    {
      "cell_type": "code",
      "source": [
        "df=pd.read_csv('diabetes.csv')"
      ],
      "metadata": {
        "id": "uw2oLenGQZQt"
      },
      "execution_count": null,
      "outputs": []
    },
    {
      "cell_type": "code",
      "source": [
        "df.head()"
      ],
      "metadata": {
        "colab": {
          "base_uri": "https://localhost:8080/",
          "height": 226
        },
        "id": "1jgc6SwAQc9T",
        "outputId": "a97a0261-68b2-4246-9247-511846bbdd60"
      },
      "execution_count": null,
      "outputs": [
        {
          "output_type": "execute_result",
          "data": {
            "text/plain": [
              "   Pregnancies  Glucose  BloodPressure  SkinThickness  Insulin   BMI  \\\n",
              "0            6      148             72             35        0  33.6   \n",
              "1            1       85             66             29        0  26.6   \n",
              "2            8      183             64              0        0  23.3   \n",
              "3            1       89             66             23       94  28.1   \n",
              "4            0      137             40             35      168  43.1   \n",
              "\n",
              "   DiabetesPedigreeFunction  Age  Outcome  \n",
              "0                     0.627   50        1  \n",
              "1                     0.351   31        0  \n",
              "2                     0.672   32        1  \n",
              "3                     0.167   21        0  \n",
              "4                     2.288   33        1  "
            ],
            "text/html": [
              "\n",
              "  <div id=\"df-aa8b3bb2-757e-4117-a5a4-0e281417c372\" class=\"colab-df-container\">\n",
              "    <div>\n",
              "<style scoped>\n",
              "    .dataframe tbody tr th:only-of-type {\n",
              "        vertical-align: middle;\n",
              "    }\n",
              "\n",
              "    .dataframe tbody tr th {\n",
              "        vertical-align: top;\n",
              "    }\n",
              "\n",
              "    .dataframe thead th {\n",
              "        text-align: right;\n",
              "    }\n",
              "</style>\n",
              "<table border=\"1\" class=\"dataframe\">\n",
              "  <thead>\n",
              "    <tr style=\"text-align: right;\">\n",
              "      <th></th>\n",
              "      <th>Pregnancies</th>\n",
              "      <th>Glucose</th>\n",
              "      <th>BloodPressure</th>\n",
              "      <th>SkinThickness</th>\n",
              "      <th>Insulin</th>\n",
              "      <th>BMI</th>\n",
              "      <th>DiabetesPedigreeFunction</th>\n",
              "      <th>Age</th>\n",
              "      <th>Outcome</th>\n",
              "    </tr>\n",
              "  </thead>\n",
              "  <tbody>\n",
              "    <tr>\n",
              "      <th>0</th>\n",
              "      <td>6</td>\n",
              "      <td>148</td>\n",
              "      <td>72</td>\n",
              "      <td>35</td>\n",
              "      <td>0</td>\n",
              "      <td>33.6</td>\n",
              "      <td>0.627</td>\n",
              "      <td>50</td>\n",
              "      <td>1</td>\n",
              "    </tr>\n",
              "    <tr>\n",
              "      <th>1</th>\n",
              "      <td>1</td>\n",
              "      <td>85</td>\n",
              "      <td>66</td>\n",
              "      <td>29</td>\n",
              "      <td>0</td>\n",
              "      <td>26.6</td>\n",
              "      <td>0.351</td>\n",
              "      <td>31</td>\n",
              "      <td>0</td>\n",
              "    </tr>\n",
              "    <tr>\n",
              "      <th>2</th>\n",
              "      <td>8</td>\n",
              "      <td>183</td>\n",
              "      <td>64</td>\n",
              "      <td>0</td>\n",
              "      <td>0</td>\n",
              "      <td>23.3</td>\n",
              "      <td>0.672</td>\n",
              "      <td>32</td>\n",
              "      <td>1</td>\n",
              "    </tr>\n",
              "    <tr>\n",
              "      <th>3</th>\n",
              "      <td>1</td>\n",
              "      <td>89</td>\n",
              "      <td>66</td>\n",
              "      <td>23</td>\n",
              "      <td>94</td>\n",
              "      <td>28.1</td>\n",
              "      <td>0.167</td>\n",
              "      <td>21</td>\n",
              "      <td>0</td>\n",
              "    </tr>\n",
              "    <tr>\n",
              "      <th>4</th>\n",
              "      <td>0</td>\n",
              "      <td>137</td>\n",
              "      <td>40</td>\n",
              "      <td>35</td>\n",
              "      <td>168</td>\n",
              "      <td>43.1</td>\n",
              "      <td>2.288</td>\n",
              "      <td>33</td>\n",
              "      <td>1</td>\n",
              "    </tr>\n",
              "  </tbody>\n",
              "</table>\n",
              "</div>\n",
              "    <div class=\"colab-df-buttons\">\n",
              "\n",
              "  <div class=\"colab-df-container\">\n",
              "    <button class=\"colab-df-convert\" onclick=\"convertToInteractive('df-aa8b3bb2-757e-4117-a5a4-0e281417c372')\"\n",
              "            title=\"Convert this dataframe to an interactive table.\"\n",
              "            style=\"display:none;\">\n",
              "\n",
              "  <svg xmlns=\"http://www.w3.org/2000/svg\" height=\"24px\" viewBox=\"0 -960 960 960\">\n",
              "    <path d=\"M120-120v-720h720v720H120Zm60-500h600v-160H180v160Zm220 220h160v-160H400v160Zm0 220h160v-160H400v160ZM180-400h160v-160H180v160Zm440 0h160v-160H620v160ZM180-180h160v-160H180v160Zm440 0h160v-160H620v160Z\"/>\n",
              "  </svg>\n",
              "    </button>\n",
              "\n",
              "  <style>\n",
              "    .colab-df-container {\n",
              "      display:flex;\n",
              "      gap: 12px;\n",
              "    }\n",
              "\n",
              "    .colab-df-convert {\n",
              "      background-color: #E8F0FE;\n",
              "      border: none;\n",
              "      border-radius: 50%;\n",
              "      cursor: pointer;\n",
              "      display: none;\n",
              "      fill: #1967D2;\n",
              "      height: 32px;\n",
              "      padding: 0 0 0 0;\n",
              "      width: 32px;\n",
              "    }\n",
              "\n",
              "    .colab-df-convert:hover {\n",
              "      background-color: #E2EBFA;\n",
              "      box-shadow: 0px 1px 2px rgba(60, 64, 67, 0.3), 0px 1px 3px 1px rgba(60, 64, 67, 0.15);\n",
              "      fill: #174EA6;\n",
              "    }\n",
              "\n",
              "    .colab-df-buttons div {\n",
              "      margin-bottom: 4px;\n",
              "    }\n",
              "\n",
              "    [theme=dark] .colab-df-convert {\n",
              "      background-color: #3B4455;\n",
              "      fill: #D2E3FC;\n",
              "    }\n",
              "\n",
              "    [theme=dark] .colab-df-convert:hover {\n",
              "      background-color: #434B5C;\n",
              "      box-shadow: 0px 1px 3px 1px rgba(0, 0, 0, 0.15);\n",
              "      filter: drop-shadow(0px 1px 2px rgba(0, 0, 0, 0.3));\n",
              "      fill: #FFFFFF;\n",
              "    }\n",
              "  </style>\n",
              "\n",
              "    <script>\n",
              "      const buttonEl =\n",
              "        document.querySelector('#df-aa8b3bb2-757e-4117-a5a4-0e281417c372 button.colab-df-convert');\n",
              "      buttonEl.style.display =\n",
              "        google.colab.kernel.accessAllowed ? 'block' : 'none';\n",
              "\n",
              "      async function convertToInteractive(key) {\n",
              "        const element = document.querySelector('#df-aa8b3bb2-757e-4117-a5a4-0e281417c372');\n",
              "        const dataTable =\n",
              "          await google.colab.kernel.invokeFunction('convertToInteractive',\n",
              "                                                    [key], {});\n",
              "        if (!dataTable) return;\n",
              "\n",
              "        const docLinkHtml = 'Like what you see? Visit the ' +\n",
              "          '<a target=\"_blank\" href=https://colab.research.google.com/notebooks/data_table.ipynb>data table notebook</a>'\n",
              "          + ' to learn more about interactive tables.';\n",
              "        element.innerHTML = '';\n",
              "        dataTable['output_type'] = 'display_data';\n",
              "        await google.colab.output.renderOutput(dataTable, element);\n",
              "        const docLink = document.createElement('div');\n",
              "        docLink.innerHTML = docLinkHtml;\n",
              "        element.appendChild(docLink);\n",
              "      }\n",
              "    </script>\n",
              "  </div>\n",
              "\n",
              "\n",
              "<div id=\"df-0bda73d9-2726-4244-a936-b7f0ecc60b55\">\n",
              "  <button class=\"colab-df-quickchart\" onclick=\"quickchart('df-0bda73d9-2726-4244-a936-b7f0ecc60b55')\"\n",
              "            title=\"Suggest charts\"\n",
              "            style=\"display:none;\">\n",
              "\n",
              "<svg xmlns=\"http://www.w3.org/2000/svg\" height=\"24px\"viewBox=\"0 0 24 24\"\n",
              "     width=\"24px\">\n",
              "    <g>\n",
              "        <path d=\"M19 3H5c-1.1 0-2 .9-2 2v14c0 1.1.9 2 2 2h14c1.1 0 2-.9 2-2V5c0-1.1-.9-2-2-2zM9 17H7v-7h2v7zm4 0h-2V7h2v10zm4 0h-2v-4h2v4z\"/>\n",
              "    </g>\n",
              "</svg>\n",
              "  </button>\n",
              "\n",
              "<style>\n",
              "  .colab-df-quickchart {\n",
              "      --bg-color: #E8F0FE;\n",
              "      --fill-color: #1967D2;\n",
              "      --hover-bg-color: #E2EBFA;\n",
              "      --hover-fill-color: #174EA6;\n",
              "      --disabled-fill-color: #AAA;\n",
              "      --disabled-bg-color: #DDD;\n",
              "  }\n",
              "\n",
              "  [theme=dark] .colab-df-quickchart {\n",
              "      --bg-color: #3B4455;\n",
              "      --fill-color: #D2E3FC;\n",
              "      --hover-bg-color: #434B5C;\n",
              "      --hover-fill-color: #FFFFFF;\n",
              "      --disabled-bg-color: #3B4455;\n",
              "      --disabled-fill-color: #666;\n",
              "  }\n",
              "\n",
              "  .colab-df-quickchart {\n",
              "    background-color: var(--bg-color);\n",
              "    border: none;\n",
              "    border-radius: 50%;\n",
              "    cursor: pointer;\n",
              "    display: none;\n",
              "    fill: var(--fill-color);\n",
              "    height: 32px;\n",
              "    padding: 0;\n",
              "    width: 32px;\n",
              "  }\n",
              "\n",
              "  .colab-df-quickchart:hover {\n",
              "    background-color: var(--hover-bg-color);\n",
              "    box-shadow: 0 1px 2px rgba(60, 64, 67, 0.3), 0 1px 3px 1px rgba(60, 64, 67, 0.15);\n",
              "    fill: var(--button-hover-fill-color);\n",
              "  }\n",
              "\n",
              "  .colab-df-quickchart-complete:disabled,\n",
              "  .colab-df-quickchart-complete:disabled:hover {\n",
              "    background-color: var(--disabled-bg-color);\n",
              "    fill: var(--disabled-fill-color);\n",
              "    box-shadow: none;\n",
              "  }\n",
              "\n",
              "  .colab-df-spinner {\n",
              "    border: 2px solid var(--fill-color);\n",
              "    border-color: transparent;\n",
              "    border-bottom-color: var(--fill-color);\n",
              "    animation:\n",
              "      spin 1s steps(1) infinite;\n",
              "  }\n",
              "\n",
              "  @keyframes spin {\n",
              "    0% {\n",
              "      border-color: transparent;\n",
              "      border-bottom-color: var(--fill-color);\n",
              "      border-left-color: var(--fill-color);\n",
              "    }\n",
              "    20% {\n",
              "      border-color: transparent;\n",
              "      border-left-color: var(--fill-color);\n",
              "      border-top-color: var(--fill-color);\n",
              "    }\n",
              "    30% {\n",
              "      border-color: transparent;\n",
              "      border-left-color: var(--fill-color);\n",
              "      border-top-color: var(--fill-color);\n",
              "      border-right-color: var(--fill-color);\n",
              "    }\n",
              "    40% {\n",
              "      border-color: transparent;\n",
              "      border-right-color: var(--fill-color);\n",
              "      border-top-color: var(--fill-color);\n",
              "    }\n",
              "    60% {\n",
              "      border-color: transparent;\n",
              "      border-right-color: var(--fill-color);\n",
              "    }\n",
              "    80% {\n",
              "      border-color: transparent;\n",
              "      border-right-color: var(--fill-color);\n",
              "      border-bottom-color: var(--fill-color);\n",
              "    }\n",
              "    90% {\n",
              "      border-color: transparent;\n",
              "      border-bottom-color: var(--fill-color);\n",
              "    }\n",
              "  }\n",
              "</style>\n",
              "\n",
              "  <script>\n",
              "    async function quickchart(key) {\n",
              "      const quickchartButtonEl =\n",
              "        document.querySelector('#' + key + ' button');\n",
              "      quickchartButtonEl.disabled = true;  // To prevent multiple clicks.\n",
              "      quickchartButtonEl.classList.add('colab-df-spinner');\n",
              "      try {\n",
              "        const charts = await google.colab.kernel.invokeFunction(\n",
              "            'suggestCharts', [key], {});\n",
              "      } catch (error) {\n",
              "        console.error('Error during call to suggestCharts:', error);\n",
              "      }\n",
              "      quickchartButtonEl.classList.remove('colab-df-spinner');\n",
              "      quickchartButtonEl.classList.add('colab-df-quickchart-complete');\n",
              "    }\n",
              "    (() => {\n",
              "      let quickchartButtonEl =\n",
              "        document.querySelector('#df-0bda73d9-2726-4244-a936-b7f0ecc60b55 button');\n",
              "      quickchartButtonEl.style.display =\n",
              "        google.colab.kernel.accessAllowed ? 'block' : 'none';\n",
              "    })();\n",
              "  </script>\n",
              "</div>\n",
              "\n",
              "    </div>\n",
              "  </div>\n"
            ],
            "application/vnd.google.colaboratory.intrinsic+json": {
              "type": "dataframe",
              "variable_name": "df",
              "summary": "{\n  \"name\": \"df\",\n  \"rows\": 768,\n  \"fields\": [\n    {\n      \"column\": \"Pregnancies\",\n      \"properties\": {\n        \"dtype\": \"number\",\n        \"std\": 3,\n        \"min\": 0,\n        \"max\": 17,\n        \"num_unique_values\": 17,\n        \"samples\": [\n          6,\n          1,\n          3\n        ],\n        \"semantic_type\": \"\",\n        \"description\": \"\"\n      }\n    },\n    {\n      \"column\": \"Glucose\",\n      \"properties\": {\n        \"dtype\": \"number\",\n        \"std\": 31,\n        \"min\": 0,\n        \"max\": 199,\n        \"num_unique_values\": 136,\n        \"samples\": [\n          151,\n          101,\n          112\n        ],\n        \"semantic_type\": \"\",\n        \"description\": \"\"\n      }\n    },\n    {\n      \"column\": \"BloodPressure\",\n      \"properties\": {\n        \"dtype\": \"number\",\n        \"std\": 19,\n        \"min\": 0,\n        \"max\": 122,\n        \"num_unique_values\": 47,\n        \"samples\": [\n          86,\n          46,\n          85\n        ],\n        \"semantic_type\": \"\",\n        \"description\": \"\"\n      }\n    },\n    {\n      \"column\": \"SkinThickness\",\n      \"properties\": {\n        \"dtype\": \"number\",\n        \"std\": 15,\n        \"min\": 0,\n        \"max\": 99,\n        \"num_unique_values\": 51,\n        \"samples\": [\n          7,\n          12,\n          48\n        ],\n        \"semantic_type\": \"\",\n        \"description\": \"\"\n      }\n    },\n    {\n      \"column\": \"Insulin\",\n      \"properties\": {\n        \"dtype\": \"number\",\n        \"std\": 115,\n        \"min\": 0,\n        \"max\": 846,\n        \"num_unique_values\": 186,\n        \"samples\": [\n          52,\n          41,\n          183\n        ],\n        \"semantic_type\": \"\",\n        \"description\": \"\"\n      }\n    },\n    {\n      \"column\": \"BMI\",\n      \"properties\": {\n        \"dtype\": \"number\",\n        \"std\": 7.884160320375446,\n        \"min\": 0.0,\n        \"max\": 67.1,\n        \"num_unique_values\": 248,\n        \"samples\": [\n          19.9,\n          31.0,\n          38.1\n        ],\n        \"semantic_type\": \"\",\n        \"description\": \"\"\n      }\n    },\n    {\n      \"column\": \"DiabetesPedigreeFunction\",\n      \"properties\": {\n        \"dtype\": \"number\",\n        \"std\": 0.3313285950127749,\n        \"min\": 0.078,\n        \"max\": 2.42,\n        \"num_unique_values\": 517,\n        \"samples\": [\n          1.731,\n          0.426,\n          0.138\n        ],\n        \"semantic_type\": \"\",\n        \"description\": \"\"\n      }\n    },\n    {\n      \"column\": \"Age\",\n      \"properties\": {\n        \"dtype\": \"number\",\n        \"std\": 11,\n        \"min\": 21,\n        \"max\": 81,\n        \"num_unique_values\": 52,\n        \"samples\": [\n          60,\n          47,\n          72\n        ],\n        \"semantic_type\": \"\",\n        \"description\": \"\"\n      }\n    },\n    {\n      \"column\": \"Outcome\",\n      \"properties\": {\n        \"dtype\": \"number\",\n        \"std\": 0,\n        \"min\": 0,\n        \"max\": 1,\n        \"num_unique_values\": 2,\n        \"samples\": [\n          0,\n          1\n        ],\n        \"semantic_type\": \"\",\n        \"description\": \"\"\n      }\n    }\n  ]\n}"
            }
          },
          "metadata": {},
          "execution_count": 4
        }
      ]
    },
    {
      "cell_type": "code",
      "source": [
        "df.isnull().sum()"
      ],
      "metadata": {
        "colab": {
          "base_uri": "https://localhost:8080/"
        },
        "id": "q6ANlEYrQekA",
        "outputId": "7a4f4f8c-0b1e-4d34-c3ac-c97a48144533"
      },
      "execution_count": null,
      "outputs": [
        {
          "output_type": "execute_result",
          "data": {
            "text/plain": [
              "Pregnancies                 0\n",
              "Glucose                     0\n",
              "BloodPressure               0\n",
              "SkinThickness               0\n",
              "Insulin                     0\n",
              "BMI                         0\n",
              "DiabetesPedigreeFunction    0\n",
              "Age                         0\n",
              "Outcome                     0\n",
              "dtype: int64"
            ]
          },
          "metadata": {},
          "execution_count": 5
        }
      ]
    },
    {
      "cell_type": "code",
      "source": [
        "df.info()"
      ],
      "metadata": {
        "colab": {
          "base_uri": "https://localhost:8080/"
        },
        "id": "gJI1hQyrQhwS",
        "outputId": "0f1c4835-ae1f-4619-cfa7-125c2e88029c"
      },
      "execution_count": null,
      "outputs": [
        {
          "output_type": "stream",
          "name": "stdout",
          "text": [
            "<class 'pandas.core.frame.DataFrame'>\n",
            "RangeIndex: 768 entries, 0 to 767\n",
            "Data columns (total 9 columns):\n",
            " #   Column                    Non-Null Count  Dtype  \n",
            "---  ------                    --------------  -----  \n",
            " 0   Pregnancies               768 non-null    int64  \n",
            " 1   Glucose                   768 non-null    int64  \n",
            " 2   BloodPressure             768 non-null    int64  \n",
            " 3   SkinThickness             768 non-null    int64  \n",
            " 4   Insulin                   768 non-null    int64  \n",
            " 5   BMI                       768 non-null    float64\n",
            " 6   DiabetesPedigreeFunction  768 non-null    float64\n",
            " 7   Age                       768 non-null    int64  \n",
            " 8   Outcome                   768 non-null    int64  \n",
            "dtypes: float64(2), int64(7)\n",
            "memory usage: 54.1 KB\n"
          ]
        }
      ]
    },
    {
      "cell_type": "code",
      "source": [
        "df.duplicated().sum()"
      ],
      "metadata": {
        "colab": {
          "base_uri": "https://localhost:8080/"
        },
        "id": "VHd6CY2tQjT_",
        "outputId": "ce594774-0179-445f-8845-a2d223bc5923"
      },
      "execution_count": null,
      "outputs": [
        {
          "output_type": "execute_result",
          "data": {
            "text/plain": [
              "0"
            ]
          },
          "metadata": {},
          "execution_count": 7
        }
      ]
    },
    {
      "cell_type": "code",
      "source": [
        "df.corr()['Outcome']"
      ],
      "metadata": {
        "colab": {
          "base_uri": "https://localhost:8080/"
        },
        "id": "Z16hY_-_Qntn",
        "outputId": "78175e9d-6ca4-409a-beea-8c49d76fcd43"
      },
      "execution_count": null,
      "outputs": [
        {
          "output_type": "execute_result",
          "data": {
            "text/plain": [
              "Pregnancies                 0.221898\n",
              "Glucose                     0.466581\n",
              "BloodPressure               0.065068\n",
              "SkinThickness               0.074752\n",
              "Insulin                     0.130548\n",
              "BMI                         0.292695\n",
              "DiabetesPedigreeFunction    0.173844\n",
              "Age                         0.238356\n",
              "Outcome                     1.000000\n",
              "Name: Outcome, dtype: float64"
            ]
          },
          "metadata": {},
          "execution_count": 8
        }
      ]
    },
    {
      "cell_type": "code",
      "source": [
        "df.columns"
      ],
      "metadata": {
        "colab": {
          "base_uri": "https://localhost:8080/"
        },
        "id": "Jb2LqRvdQ7qH",
        "outputId": "530f9830-6738-4a8d-9751-8c6bc1107221"
      },
      "execution_count": null,
      "outputs": [
        {
          "output_type": "execute_result",
          "data": {
            "text/plain": [
              "Index(['Pregnancies', 'Glucose', 'BloodPressure', 'SkinThickness', 'Insulin',\n",
              "       'BMI', 'DiabetesPedigreeFunction', 'Age', 'Outcome'],\n",
              "      dtype='object')"
            ]
          },
          "metadata": {},
          "execution_count": 9
        }
      ]
    },
    {
      "cell_type": "code",
      "source": [
        "X=df.drop('Outcome',axis=1)\n",
        "y=df['Outcome']"
      ],
      "metadata": {
        "id": "uZzJGYHIQ-nm"
      },
      "execution_count": null,
      "outputs": []
    },
    {
      "cell_type": "code",
      "source": [
        "from sklearn.preprocessing import StandardScaler\n",
        "scaler=StandardScaler()"
      ],
      "metadata": {
        "id": "FpPdUuTRRGYP"
      },
      "execution_count": null,
      "outputs": []
    },
    {
      "cell_type": "code",
      "source": [
        "X=scaler.fit_transform(X)"
      ],
      "metadata": {
        "id": "RRLjjt6KRN7q"
      },
      "execution_count": null,
      "outputs": []
    },
    {
      "cell_type": "code",
      "source": [
        "X"
      ],
      "metadata": {
        "colab": {
          "base_uri": "https://localhost:8080/"
        },
        "id": "X_c3F48RRWwQ",
        "outputId": "79e67657-0a5f-4411-e2a4-16caee79152d"
      },
      "execution_count": null,
      "outputs": [
        {
          "output_type": "execute_result",
          "data": {
            "text/plain": [
              "array([[ 0.63994726,  0.84832379,  0.14964075, ...,  0.20401277,\n",
              "         0.46849198,  1.4259954 ],\n",
              "       [-0.84488505, -1.12339636, -0.16054575, ..., -0.68442195,\n",
              "        -0.36506078, -0.19067191],\n",
              "       [ 1.23388019,  1.94372388, -0.26394125, ..., -1.10325546,\n",
              "         0.60439732, -0.10558415],\n",
              "       ...,\n",
              "       [ 0.3429808 ,  0.00330087,  0.14964075, ..., -0.73518964,\n",
              "        -0.68519336, -0.27575966],\n",
              "       [-0.84488505,  0.1597866 , -0.47073225, ..., -0.24020459,\n",
              "        -0.37110101,  1.17073215],\n",
              "       [-0.84488505, -0.8730192 ,  0.04624525, ..., -0.20212881,\n",
              "        -0.47378505, -0.87137393]])"
            ]
          },
          "metadata": {},
          "execution_count": 13
        }
      ]
    },
    {
      "cell_type": "code",
      "source": [
        "y"
      ],
      "metadata": {
        "colab": {
          "base_uri": "https://localhost:8080/"
        },
        "id": "MAGytd65RXy5",
        "outputId": "709389cb-b6ef-4c63-9e6b-e614475f8dcc"
      },
      "execution_count": null,
      "outputs": [
        {
          "output_type": "execute_result",
          "data": {
            "text/plain": [
              "0      1\n",
              "1      0\n",
              "2      1\n",
              "3      0\n",
              "4      1\n",
              "      ..\n",
              "763    0\n",
              "764    0\n",
              "765    0\n",
              "766    1\n",
              "767    0\n",
              "Name: Outcome, Length: 768, dtype: int64"
            ]
          },
          "metadata": {},
          "execution_count": 14
        }
      ]
    },
    {
      "cell_type": "code",
      "source": [
        "from sklearn.model_selection import train_test_split\n",
        "X_train,X_test,y_train,y_test=train_test_split(X,y,test_size=0.2,random_state=42)"
      ],
      "metadata": {
        "id": "9VDqPqPBRZ5N"
      },
      "execution_count": null,
      "outputs": []
    },
    {
      "cell_type": "code",
      "source": [
        "import tensorflow\n",
        "from tensorflow import keras\n",
        "from tensorflow.keras import Sequential\n",
        "from tensorflow.keras.layers import Dense"
      ],
      "metadata": {
        "id": "KwTNjyL7Rhmn"
      },
      "execution_count": null,
      "outputs": []
    },
    {
      "cell_type": "code",
      "source": [
        "model=Sequential()\n",
        "model.add(Dense(32,activation='relu',input_dim=8))\n",
        "model.add(Dense(1,activation='sigmoid'))\n",
        "model.compile(optimizer='adam',loss='binary_crossentropy',metrics=['accuracy'])"
      ],
      "metadata": {
        "id": "Do0ZF7abRx_A"
      },
      "execution_count": null,
      "outputs": []
    },
    {
      "cell_type": "code",
      "source": [
        "model.fit(X_train,y_train,batch_size=32,epochs=100,validation_data=(X_test,y_test))"
      ],
      "metadata": {
        "colab": {
          "base_uri": "https://localhost:8080/"
        },
        "id": "hi4RtVPsSG7J",
        "outputId": "0c1235a0-db6e-469c-b744-dee8e005eb27"
      },
      "execution_count": null,
      "outputs": [
        {
          "output_type": "stream",
          "name": "stdout",
          "text": [
            "Epoch 1/100\n",
            "20/20 [==============================] - 0s 8ms/step - loss: 0.4508 - accuracy: 0.7801 - val_loss: 0.5061 - val_accuracy: 0.7597\n",
            "Epoch 2/100\n",
            "20/20 [==============================] - 0s 6ms/step - loss: 0.4490 - accuracy: 0.7834 - val_loss: 0.5064 - val_accuracy: 0.7727\n",
            "Epoch 3/100\n",
            "20/20 [==============================] - 0s 5ms/step - loss: 0.4475 - accuracy: 0.7818 - val_loss: 0.5064 - val_accuracy: 0.7532\n",
            "Epoch 4/100\n",
            "20/20 [==============================] - 0s 5ms/step - loss: 0.4460 - accuracy: 0.7785 - val_loss: 0.5067 - val_accuracy: 0.7532\n",
            "Epoch 5/100\n",
            "20/20 [==============================] - 0s 5ms/step - loss: 0.4445 - accuracy: 0.7834 - val_loss: 0.5071 - val_accuracy: 0.7532\n",
            "Epoch 6/100\n",
            "20/20 [==============================] - 0s 7ms/step - loss: 0.4432 - accuracy: 0.7850 - val_loss: 0.5075 - val_accuracy: 0.7532\n",
            "Epoch 7/100\n",
            "20/20 [==============================] - 0s 5ms/step - loss: 0.4419 - accuracy: 0.7899 - val_loss: 0.5098 - val_accuracy: 0.7468\n",
            "Epoch 8/100\n",
            "20/20 [==============================] - 0s 5ms/step - loss: 0.4413 - accuracy: 0.7850 - val_loss: 0.5108 - val_accuracy: 0.7468\n",
            "Epoch 9/100\n",
            "20/20 [==============================] - 0s 5ms/step - loss: 0.4396 - accuracy: 0.7866 - val_loss: 0.5092 - val_accuracy: 0.7532\n",
            "Epoch 10/100\n",
            "20/20 [==============================] - 0s 4ms/step - loss: 0.4389 - accuracy: 0.7801 - val_loss: 0.5075 - val_accuracy: 0.7597\n",
            "Epoch 11/100\n",
            "20/20 [==============================] - 0s 5ms/step - loss: 0.4380 - accuracy: 0.7769 - val_loss: 0.5088 - val_accuracy: 0.7403\n",
            "Epoch 12/100\n",
            "20/20 [==============================] - 0s 4ms/step - loss: 0.4370 - accuracy: 0.7785 - val_loss: 0.5072 - val_accuracy: 0.7532\n",
            "Epoch 13/100\n",
            "20/20 [==============================] - 0s 4ms/step - loss: 0.4363 - accuracy: 0.7769 - val_loss: 0.5072 - val_accuracy: 0.7597\n",
            "Epoch 14/100\n",
            "20/20 [==============================] - 0s 4ms/step - loss: 0.4358 - accuracy: 0.7769 - val_loss: 0.5086 - val_accuracy: 0.7597\n",
            "Epoch 15/100\n",
            "20/20 [==============================] - 0s 5ms/step - loss: 0.4352 - accuracy: 0.7736 - val_loss: 0.5105 - val_accuracy: 0.7532\n",
            "Epoch 16/100\n",
            "20/20 [==============================] - 0s 6ms/step - loss: 0.4340 - accuracy: 0.7785 - val_loss: 0.5100 - val_accuracy: 0.7597\n",
            "Epoch 17/100\n",
            "20/20 [==============================] - 0s 5ms/step - loss: 0.4334 - accuracy: 0.7801 - val_loss: 0.5103 - val_accuracy: 0.7532\n",
            "Epoch 18/100\n",
            "20/20 [==============================] - 0s 4ms/step - loss: 0.4326 - accuracy: 0.7801 - val_loss: 0.5103 - val_accuracy: 0.7597\n",
            "Epoch 19/100\n",
            "20/20 [==============================] - 0s 4ms/step - loss: 0.4320 - accuracy: 0.7785 - val_loss: 0.5107 - val_accuracy: 0.7597\n",
            "Epoch 20/100\n",
            "20/20 [==============================] - 0s 5ms/step - loss: 0.4314 - accuracy: 0.7801 - val_loss: 0.5089 - val_accuracy: 0.7597\n",
            "Epoch 21/100\n",
            "20/20 [==============================] - 0s 4ms/step - loss: 0.4306 - accuracy: 0.7785 - val_loss: 0.5085 - val_accuracy: 0.7662\n",
            "Epoch 22/100\n",
            "20/20 [==============================] - 0s 5ms/step - loss: 0.4300 - accuracy: 0.7769 - val_loss: 0.5085 - val_accuracy: 0.7662\n",
            "Epoch 23/100\n",
            "20/20 [==============================] - 0s 4ms/step - loss: 0.4296 - accuracy: 0.7785 - val_loss: 0.5071 - val_accuracy: 0.7597\n",
            "Epoch 24/100\n",
            "20/20 [==============================] - 0s 4ms/step - loss: 0.4291 - accuracy: 0.7736 - val_loss: 0.5081 - val_accuracy: 0.7597\n",
            "Epoch 25/100\n",
            "20/20 [==============================] - 0s 4ms/step - loss: 0.4283 - accuracy: 0.7736 - val_loss: 0.5090 - val_accuracy: 0.7597\n",
            "Epoch 26/100\n",
            "20/20 [==============================] - 0s 5ms/step - loss: 0.4273 - accuracy: 0.7736 - val_loss: 0.5103 - val_accuracy: 0.7597\n",
            "Epoch 27/100\n",
            "20/20 [==============================] - 0s 5ms/step - loss: 0.4267 - accuracy: 0.7752 - val_loss: 0.5093 - val_accuracy: 0.7597\n",
            "Epoch 28/100\n",
            "20/20 [==============================] - 0s 4ms/step - loss: 0.4272 - accuracy: 0.7736 - val_loss: 0.5143 - val_accuracy: 0.7468\n",
            "Epoch 29/100\n",
            "20/20 [==============================] - 0s 4ms/step - loss: 0.4259 - accuracy: 0.7850 - val_loss: 0.5151 - val_accuracy: 0.7532\n",
            "Epoch 30/100\n",
            "20/20 [==============================] - 0s 4ms/step - loss: 0.4254 - accuracy: 0.7850 - val_loss: 0.5147 - val_accuracy: 0.7532\n",
            "Epoch 31/100\n",
            "20/20 [==============================] - 0s 5ms/step - loss: 0.4246 - accuracy: 0.7850 - val_loss: 0.5135 - val_accuracy: 0.7532\n",
            "Epoch 32/100\n",
            "20/20 [==============================] - 0s 4ms/step - loss: 0.4237 - accuracy: 0.7785 - val_loss: 0.5128 - val_accuracy: 0.7532\n",
            "Epoch 33/100\n",
            "20/20 [==============================] - 0s 4ms/step - loss: 0.4236 - accuracy: 0.7785 - val_loss: 0.5141 - val_accuracy: 0.7532\n",
            "Epoch 34/100\n",
            "20/20 [==============================] - 0s 5ms/step - loss: 0.4229 - accuracy: 0.7834 - val_loss: 0.5149 - val_accuracy: 0.7597\n",
            "Epoch 35/100\n",
            "20/20 [==============================] - 0s 4ms/step - loss: 0.4229 - accuracy: 0.7801 - val_loss: 0.5175 - val_accuracy: 0.7532\n",
            "Epoch 36/100\n",
            "20/20 [==============================] - 0s 5ms/step - loss: 0.4223 - accuracy: 0.7866 - val_loss: 0.5142 - val_accuracy: 0.7597\n",
            "Epoch 37/100\n",
            "20/20 [==============================] - 0s 5ms/step - loss: 0.4217 - accuracy: 0.7834 - val_loss: 0.5151 - val_accuracy: 0.7597\n",
            "Epoch 38/100\n",
            "20/20 [==============================] - 0s 5ms/step - loss: 0.4216 - accuracy: 0.7801 - val_loss: 0.5154 - val_accuracy: 0.7597\n",
            "Epoch 39/100\n",
            "20/20 [==============================] - 0s 4ms/step - loss: 0.4209 - accuracy: 0.7785 - val_loss: 0.5185 - val_accuracy: 0.7597\n",
            "Epoch 40/100\n",
            "20/20 [==============================] - 0s 4ms/step - loss: 0.4200 - accuracy: 0.7785 - val_loss: 0.5188 - val_accuracy: 0.7597\n",
            "Epoch 41/100\n",
            "20/20 [==============================] - 0s 4ms/step - loss: 0.4196 - accuracy: 0.7834 - val_loss: 0.5185 - val_accuracy: 0.7597\n",
            "Epoch 42/100\n",
            "20/20 [==============================] - 0s 3ms/step - loss: 0.4195 - accuracy: 0.7834 - val_loss: 0.5191 - val_accuracy: 0.7597\n",
            "Epoch 43/100\n",
            "20/20 [==============================] - 0s 5ms/step - loss: 0.4184 - accuracy: 0.7818 - val_loss: 0.5180 - val_accuracy: 0.7597\n",
            "Epoch 44/100\n",
            "20/20 [==============================] - 0s 5ms/step - loss: 0.4184 - accuracy: 0.7818 - val_loss: 0.5183 - val_accuracy: 0.7597\n",
            "Epoch 45/100\n",
            "20/20 [==============================] - 0s 4ms/step - loss: 0.4181 - accuracy: 0.7818 - val_loss: 0.5203 - val_accuracy: 0.7532\n",
            "Epoch 46/100\n",
            "20/20 [==============================] - 0s 4ms/step - loss: 0.4172 - accuracy: 0.7850 - val_loss: 0.5207 - val_accuracy: 0.7597\n",
            "Epoch 47/100\n",
            "20/20 [==============================] - 0s 5ms/step - loss: 0.4172 - accuracy: 0.7850 - val_loss: 0.5193 - val_accuracy: 0.7597\n",
            "Epoch 48/100\n",
            "20/20 [==============================] - 0s 5ms/step - loss: 0.4159 - accuracy: 0.7834 - val_loss: 0.5189 - val_accuracy: 0.7597\n",
            "Epoch 49/100\n",
            "20/20 [==============================] - 0s 5ms/step - loss: 0.4153 - accuracy: 0.7866 - val_loss: 0.5186 - val_accuracy: 0.7597\n",
            "Epoch 50/100\n",
            "20/20 [==============================] - 0s 5ms/step - loss: 0.4150 - accuracy: 0.7899 - val_loss: 0.5191 - val_accuracy: 0.7597\n",
            "Epoch 51/100\n",
            "20/20 [==============================] - 0s 4ms/step - loss: 0.4148 - accuracy: 0.7883 - val_loss: 0.5176 - val_accuracy: 0.7597\n",
            "Epoch 52/100\n",
            "20/20 [==============================] - 0s 4ms/step - loss: 0.4150 - accuracy: 0.7915 - val_loss: 0.5191 - val_accuracy: 0.7597\n",
            "Epoch 53/100\n",
            "20/20 [==============================] - 0s 5ms/step - loss: 0.4140 - accuracy: 0.7899 - val_loss: 0.5201 - val_accuracy: 0.7597\n",
            "Epoch 54/100\n",
            "20/20 [==============================] - 0s 5ms/step - loss: 0.4133 - accuracy: 0.7915 - val_loss: 0.5208 - val_accuracy: 0.7597\n",
            "Epoch 55/100\n",
            "20/20 [==============================] - 0s 4ms/step - loss: 0.4132 - accuracy: 0.7899 - val_loss: 0.5202 - val_accuracy: 0.7597\n",
            "Epoch 56/100\n",
            "20/20 [==============================] - 0s 5ms/step - loss: 0.4121 - accuracy: 0.7915 - val_loss: 0.5225 - val_accuracy: 0.7597\n",
            "Epoch 57/100\n",
            "20/20 [==============================] - 0s 5ms/step - loss: 0.4115 - accuracy: 0.7964 - val_loss: 0.5218 - val_accuracy: 0.7597\n",
            "Epoch 58/100\n",
            "20/20 [==============================] - 0s 6ms/step - loss: 0.4119 - accuracy: 0.7948 - val_loss: 0.5225 - val_accuracy: 0.7597\n",
            "Epoch 59/100\n",
            "20/20 [==============================] - 0s 4ms/step - loss: 0.4112 - accuracy: 0.7948 - val_loss: 0.5220 - val_accuracy: 0.7597\n",
            "Epoch 60/100\n",
            "20/20 [==============================] - 0s 4ms/step - loss: 0.4106 - accuracy: 0.7948 - val_loss: 0.5220 - val_accuracy: 0.7597\n",
            "Epoch 61/100\n",
            "20/20 [==============================] - 0s 4ms/step - loss: 0.4102 - accuracy: 0.7948 - val_loss: 0.5204 - val_accuracy: 0.7597\n",
            "Epoch 62/100\n",
            "20/20 [==============================] - 0s 5ms/step - loss: 0.4095 - accuracy: 0.7948 - val_loss: 0.5201 - val_accuracy: 0.7597\n",
            "Epoch 63/100\n",
            "20/20 [==============================] - 0s 6ms/step - loss: 0.4095 - accuracy: 0.7997 - val_loss: 0.5207 - val_accuracy: 0.7597\n",
            "Epoch 64/100\n",
            "20/20 [==============================] - 0s 7ms/step - loss: 0.4089 - accuracy: 0.7980 - val_loss: 0.5220 - val_accuracy: 0.7597\n",
            "Epoch 65/100\n",
            "20/20 [==============================] - 0s 7ms/step - loss: 0.4084 - accuracy: 0.8013 - val_loss: 0.5238 - val_accuracy: 0.7597\n",
            "Epoch 66/100\n",
            "20/20 [==============================] - 0s 7ms/step - loss: 0.4077 - accuracy: 0.7997 - val_loss: 0.5232 - val_accuracy: 0.7597\n",
            "Epoch 67/100\n",
            "20/20 [==============================] - 0s 7ms/step - loss: 0.4075 - accuracy: 0.7997 - val_loss: 0.5244 - val_accuracy: 0.7597\n",
            "Epoch 68/100\n",
            "20/20 [==============================] - 0s 6ms/step - loss: 0.4072 - accuracy: 0.7980 - val_loss: 0.5221 - val_accuracy: 0.7597\n",
            "Epoch 69/100\n",
            "20/20 [==============================] - 0s 6ms/step - loss: 0.4065 - accuracy: 0.8046 - val_loss: 0.5222 - val_accuracy: 0.7597\n",
            "Epoch 70/100\n",
            "20/20 [==============================] - 0s 6ms/step - loss: 0.4071 - accuracy: 0.7980 - val_loss: 0.5251 - val_accuracy: 0.7532\n",
            "Epoch 71/100\n",
            "20/20 [==============================] - 0s 7ms/step - loss: 0.4057 - accuracy: 0.7980 - val_loss: 0.5273 - val_accuracy: 0.7532\n",
            "Epoch 72/100\n",
            "20/20 [==============================] - 0s 7ms/step - loss: 0.4054 - accuracy: 0.7997 - val_loss: 0.5263 - val_accuracy: 0.7597\n",
            "Epoch 73/100\n",
            "20/20 [==============================] - 0s 6ms/step - loss: 0.4048 - accuracy: 0.8013 - val_loss: 0.5258 - val_accuracy: 0.7532\n",
            "Epoch 74/100\n",
            "20/20 [==============================] - 0s 8ms/step - loss: 0.4047 - accuracy: 0.8029 - val_loss: 0.5250 - val_accuracy: 0.7532\n",
            "Epoch 75/100\n",
            "20/20 [==============================] - 0s 6ms/step - loss: 0.4044 - accuracy: 0.8029 - val_loss: 0.5254 - val_accuracy: 0.7597\n",
            "Epoch 76/100\n",
            "20/20 [==============================] - 0s 7ms/step - loss: 0.4038 - accuracy: 0.8029 - val_loss: 0.5272 - val_accuracy: 0.7532\n",
            "Epoch 77/100\n",
            "20/20 [==============================] - 0s 6ms/step - loss: 0.4033 - accuracy: 0.8029 - val_loss: 0.5277 - val_accuracy: 0.7597\n",
            "Epoch 78/100\n",
            "20/20 [==============================] - 0s 6ms/step - loss: 0.4034 - accuracy: 0.7964 - val_loss: 0.5295 - val_accuracy: 0.7468\n",
            "Epoch 79/100\n",
            "20/20 [==============================] - 0s 7ms/step - loss: 0.4025 - accuracy: 0.7980 - val_loss: 0.5301 - val_accuracy: 0.7468\n",
            "Epoch 80/100\n",
            "20/20 [==============================] - 0s 8ms/step - loss: 0.4022 - accuracy: 0.7980 - val_loss: 0.5315 - val_accuracy: 0.7403\n",
            "Epoch 81/100\n",
            "20/20 [==============================] - 0s 7ms/step - loss: 0.4018 - accuracy: 0.7997 - val_loss: 0.5320 - val_accuracy: 0.7468\n",
            "Epoch 82/100\n",
            "20/20 [==============================] - 0s 7ms/step - loss: 0.4018 - accuracy: 0.7980 - val_loss: 0.5313 - val_accuracy: 0.7662\n",
            "Epoch 83/100\n",
            "20/20 [==============================] - 0s 6ms/step - loss: 0.4013 - accuracy: 0.8013 - val_loss: 0.5289 - val_accuracy: 0.7468\n",
            "Epoch 84/100\n",
            "20/20 [==============================] - 0s 6ms/step - loss: 0.4005 - accuracy: 0.8046 - val_loss: 0.5294 - val_accuracy: 0.7403\n",
            "Epoch 85/100\n",
            "20/20 [==============================] - 0s 6ms/step - loss: 0.4001 - accuracy: 0.8029 - val_loss: 0.5280 - val_accuracy: 0.7468\n",
            "Epoch 86/100\n",
            "20/20 [==============================] - 0s 6ms/step - loss: 0.4008 - accuracy: 0.8046 - val_loss: 0.5282 - val_accuracy: 0.7662\n",
            "Epoch 87/100\n",
            "20/20 [==============================] - 0s 8ms/step - loss: 0.3998 - accuracy: 0.8094 - val_loss: 0.5229 - val_accuracy: 0.7532\n",
            "Epoch 88/100\n",
            "20/20 [==============================] - 0s 8ms/step - loss: 0.3990 - accuracy: 0.8143 - val_loss: 0.5242 - val_accuracy: 0.7532\n",
            "Epoch 89/100\n",
            "20/20 [==============================] - 0s 7ms/step - loss: 0.3992 - accuracy: 0.8078 - val_loss: 0.5278 - val_accuracy: 0.7532\n",
            "Epoch 90/100\n",
            "20/20 [==============================] - 0s 7ms/step - loss: 0.3986 - accuracy: 0.8046 - val_loss: 0.5286 - val_accuracy: 0.7468\n",
            "Epoch 91/100\n",
            "20/20 [==============================] - 0s 4ms/step - loss: 0.3982 - accuracy: 0.8078 - val_loss: 0.5284 - val_accuracy: 0.7403\n",
            "Epoch 92/100\n",
            "20/20 [==============================] - 0s 4ms/step - loss: 0.3983 - accuracy: 0.8062 - val_loss: 0.5314 - val_accuracy: 0.7597\n",
            "Epoch 93/100\n",
            "20/20 [==============================] - 0s 4ms/step - loss: 0.3981 - accuracy: 0.8078 - val_loss: 0.5318 - val_accuracy: 0.7532\n",
            "Epoch 94/100\n",
            "20/20 [==============================] - 0s 4ms/step - loss: 0.3970 - accuracy: 0.8127 - val_loss: 0.5315 - val_accuracy: 0.7468\n",
            "Epoch 95/100\n",
            "20/20 [==============================] - 0s 4ms/step - loss: 0.3969 - accuracy: 0.8094 - val_loss: 0.5330 - val_accuracy: 0.7468\n",
            "Epoch 96/100\n",
            "20/20 [==============================] - 0s 5ms/step - loss: 0.3964 - accuracy: 0.8111 - val_loss: 0.5311 - val_accuracy: 0.7532\n",
            "Epoch 97/100\n",
            "20/20 [==============================] - 0s 6ms/step - loss: 0.3956 - accuracy: 0.8111 - val_loss: 0.5304 - val_accuracy: 0.7468\n",
            "Epoch 98/100\n",
            "20/20 [==============================] - 0s 5ms/step - loss: 0.3953 - accuracy: 0.8078 - val_loss: 0.5302 - val_accuracy: 0.7468\n",
            "Epoch 99/100\n",
            "20/20 [==============================] - 0s 4ms/step - loss: 0.3954 - accuracy: 0.8094 - val_loss: 0.5316 - val_accuracy: 0.7468\n",
            "Epoch 100/100\n",
            "20/20 [==============================] - 0s 4ms/step - loss: 0.3950 - accuracy: 0.8127 - val_loss: 0.5311 - val_accuracy: 0.7468\n"
          ]
        },
        {
          "output_type": "execute_result",
          "data": {
            "text/plain": [
              "<keras.src.callbacks.History at 0x7e5e09ce0400>"
            ]
          },
          "metadata": {},
          "execution_count": 25
        }
      ]
    },
    {
      "cell_type": "code",
      "source": [
        "## install keras-tuner\n",
        "\n",
        "!pip install -U keras-tuner"
      ],
      "metadata": {
        "colab": {
          "base_uri": "https://localhost:8080/"
        },
        "id": "5i4T1Wx4SOZG",
        "outputId": "9def5eb2-d16a-42ae-9aa1-f0e492ab1381"
      },
      "execution_count": null,
      "outputs": [
        {
          "output_type": "stream",
          "name": "stdout",
          "text": [
            "Collecting keras-tuner\n",
            "  Downloading keras_tuner-1.4.7-py3-none-any.whl (129 kB)\n",
            "\u001b[?25l     \u001b[90m━━━━━━━━━━━━━━━━━━━━━━━━━━━━━━━━━━━━━━━━\u001b[0m \u001b[32m0.0/129.1 kB\u001b[0m \u001b[31m?\u001b[0m eta \u001b[36m-:--:--\u001b[0m\r\u001b[2K     \u001b[90m━━━━━━━━━━━━━━━━━━━━━━━━━━━━━━━━━━━━━━━━\u001b[0m \u001b[32m129.1/129.1 kB\u001b[0m \u001b[31m3.7 MB/s\u001b[0m eta \u001b[36m0:00:00\u001b[0m\n",
            "\u001b[?25hRequirement already satisfied: keras in /usr/local/lib/python3.10/dist-packages (from keras-tuner) (2.15.0)\n",
            "Requirement already satisfied: packaging in /usr/local/lib/python3.10/dist-packages (from keras-tuner) (24.1)\n",
            "Requirement already satisfied: requests in /usr/local/lib/python3.10/dist-packages (from keras-tuner) (2.31.0)\n",
            "Collecting kt-legacy (from keras-tuner)\n",
            "  Downloading kt_legacy-1.0.5-py3-none-any.whl (9.6 kB)\n",
            "Requirement already satisfied: charset-normalizer<4,>=2 in /usr/local/lib/python3.10/dist-packages (from requests->keras-tuner) (3.3.2)\n",
            "Requirement already satisfied: idna<4,>=2.5 in /usr/local/lib/python3.10/dist-packages (from requests->keras-tuner) (3.7)\n",
            "Requirement already satisfied: urllib3<3,>=1.21.1 in /usr/local/lib/python3.10/dist-packages (from requests->keras-tuner) (2.0.7)\n",
            "Requirement already satisfied: certifi>=2017.4.17 in /usr/local/lib/python3.10/dist-packages (from requests->keras-tuner) (2024.6.2)\n",
            "Installing collected packages: kt-legacy, keras-tuner\n",
            "Successfully installed keras-tuner-1.4.7 kt-legacy-1.0.5\n"
          ]
        }
      ]
    },
    {
      "cell_type": "code",
      "source": [
        "import keras_tuner as kt"
      ],
      "metadata": {
        "id": "FGnA2q20S-0o"
      },
      "execution_count": null,
      "outputs": []
    },
    {
      "cell_type": "code",
      "source": [
        "def build_model(hp):\n",
        "  #hp is hyper parameter\n",
        "  model=Sequential()\n",
        "  model.add(Dense(32,activation='relu',input_dim=8))\n",
        "  model.add(Dense(1,activation='sigmoid'))\n",
        "  ## choice is used to send all required parameters\n",
        "  optimizer=hp.Choice('optimizer', values=['adam','adadelta','sgd','rmsprop'])\n",
        "  model.compile(optimizer=optimizer,loss='binary_crossentropy',metrics=['accuracy'])\n",
        "  return model"
      ],
      "metadata": {
        "id": "Rd8h_W_sTPWI"
      },
      "execution_count": null,
      "outputs": []
    },
    {
      "cell_type": "code",
      "source": [
        "## create a tuner object\n",
        "tuner=kt.RandomSearch(build_model,\n",
        "                      objective='val_accuracy',\n",
        "                      max_trials=5\n",
        "                      )"
      ],
      "metadata": {
        "id": "HlnF3UqBUSgP"
      },
      "execution_count": null,
      "outputs": []
    },
    {
      "cell_type": "code",
      "source": [
        "## use search method to start random search cv\n",
        "tuner.search(X_train,y_train,epochs=5,validation_data=(X_test,y_test))"
      ],
      "metadata": {
        "id": "QG_6Wh4qUkm7"
      },
      "execution_count": null,
      "outputs": []
    },
    {
      "cell_type": "code",
      "source": [
        "## fetch the good model\n",
        "tuner.get_best_hyperparameters()[0].values"
      ],
      "metadata": {
        "colab": {
          "base_uri": "https://localhost:8080/"
        },
        "id": "S8I-TLZMU5ju",
        "outputId": "f0534550-1038-4e93-d46c-ba58f58af548"
      },
      "execution_count": null,
      "outputs": [
        {
          "output_type": "execute_result",
          "data": {
            "text/plain": [
              "{'optimizer': 'adam'}"
            ]
          },
          "metadata": {},
          "execution_count": 37
        }
      ]
    },
    {
      "cell_type": "code",
      "source": [
        "## now get the model\n",
        "model=tuner.get_best_models(num_models=1)[0]"
      ],
      "metadata": {
        "id": "3tZSoMgCVXxQ"
      },
      "execution_count": null,
      "outputs": []
    },
    {
      "cell_type": "code",
      "source": [
        "model.summary()"
      ],
      "metadata": {
        "colab": {
          "base_uri": "https://localhost:8080/"
        },
        "id": "mj5bycELVj0q",
        "outputId": "772219e1-d5a1-4315-d54d-5e1ef97a6caa"
      },
      "execution_count": null,
      "outputs": [
        {
          "output_type": "stream",
          "name": "stdout",
          "text": [
            "Model: \"sequential\"\n",
            "_________________________________________________________________\n",
            " Layer (type)                Output Shape              Param #   \n",
            "=================================================================\n",
            " dense (Dense)               (None, 32)                288       \n",
            "                                                                 \n",
            " dense_1 (Dense)             (None, 1)                 33        \n",
            "                                                                 \n",
            "=================================================================\n",
            "Total params: 321 (1.25 KB)\n",
            "Trainable params: 321 (1.25 KB)\n",
            "Non-trainable params: 0 (0.00 Byte)\n",
            "_________________________________________________________________\n"
          ]
        }
      ]
    },
    {
      "cell_type": "code",
      "source": [
        "model.fit(X_train,y_train,batch_size=32,epochs=100,initial_epoch=6,validation_data=(X_test,y_test))"
      ],
      "metadata": {
        "colab": {
          "base_uri": "https://localhost:8080/"
        },
        "id": "55MQdE21Vlcx",
        "outputId": "a5184e05-6784-4788-9344-9ee216ae698a"
      },
      "execution_count": null,
      "outputs": [
        {
          "output_type": "stream",
          "name": "stdout",
          "text": [
            "Epoch 7/100\n",
            "20/20 [==============================] - 1s 13ms/step - loss: 0.5603 - accuracy: 0.7459 - val_loss: 0.5562 - val_accuracy: 0.7338\n",
            "Epoch 8/100\n",
            "20/20 [==============================] - 0s 4ms/step - loss: 0.5342 - accuracy: 0.7443 - val_loss: 0.5390 - val_accuracy: 0.7273\n",
            "Epoch 9/100\n",
            "20/20 [==============================] - 0s 5ms/step - loss: 0.5149 - accuracy: 0.7508 - val_loss: 0.5269 - val_accuracy: 0.7403\n",
            "Epoch 10/100\n",
            "20/20 [==============================] - 0s 4ms/step - loss: 0.5002 - accuracy: 0.7573 - val_loss: 0.5193 - val_accuracy: 0.7273\n",
            "Epoch 11/100\n",
            "20/20 [==============================] - 0s 4ms/step - loss: 0.4891 - accuracy: 0.7671 - val_loss: 0.5125 - val_accuracy: 0.7532\n",
            "Epoch 12/100\n",
            "20/20 [==============================] - 0s 4ms/step - loss: 0.4800 - accuracy: 0.7704 - val_loss: 0.5080 - val_accuracy: 0.7532\n",
            "Epoch 13/100\n",
            "20/20 [==============================] - 0s 5ms/step - loss: 0.4725 - accuracy: 0.7752 - val_loss: 0.5065 - val_accuracy: 0.7597\n",
            "Epoch 14/100\n",
            "20/20 [==============================] - 0s 4ms/step - loss: 0.4666 - accuracy: 0.7752 - val_loss: 0.5022 - val_accuracy: 0.7597\n",
            "Epoch 15/100\n",
            "20/20 [==============================] - 0s 5ms/step - loss: 0.4617 - accuracy: 0.7769 - val_loss: 0.5027 - val_accuracy: 0.7662\n",
            "Epoch 16/100\n",
            "20/20 [==============================] - 0s 5ms/step - loss: 0.4577 - accuracy: 0.7834 - val_loss: 0.5039 - val_accuracy: 0.7662\n",
            "Epoch 17/100\n",
            "20/20 [==============================] - 0s 4ms/step - loss: 0.4545 - accuracy: 0.7866 - val_loss: 0.5049 - val_accuracy: 0.7662\n",
            "Epoch 18/100\n",
            "20/20 [==============================] - 0s 4ms/step - loss: 0.4511 - accuracy: 0.7834 - val_loss: 0.5048 - val_accuracy: 0.7662\n",
            "Epoch 19/100\n",
            "20/20 [==============================] - 0s 4ms/step - loss: 0.4488 - accuracy: 0.7818 - val_loss: 0.5026 - val_accuracy: 0.7727\n",
            "Epoch 20/100\n",
            "20/20 [==============================] - 0s 4ms/step - loss: 0.4463 - accuracy: 0.7818 - val_loss: 0.5046 - val_accuracy: 0.7727\n",
            "Epoch 21/100\n",
            "20/20 [==============================] - 0s 4ms/step - loss: 0.4440 - accuracy: 0.7818 - val_loss: 0.5036 - val_accuracy: 0.7727\n",
            "Epoch 22/100\n",
            "20/20 [==============================] - 0s 4ms/step - loss: 0.4421 - accuracy: 0.7834 - val_loss: 0.5059 - val_accuracy: 0.7727\n",
            "Epoch 23/100\n",
            "20/20 [==============================] - 0s 4ms/step - loss: 0.4406 - accuracy: 0.7818 - val_loss: 0.5051 - val_accuracy: 0.7792\n",
            "Epoch 24/100\n",
            "20/20 [==============================] - 0s 6ms/step - loss: 0.4392 - accuracy: 0.7850 - val_loss: 0.5076 - val_accuracy: 0.7662\n",
            "Epoch 25/100\n",
            "20/20 [==============================] - 0s 5ms/step - loss: 0.4375 - accuracy: 0.7834 - val_loss: 0.5066 - val_accuracy: 0.7727\n",
            "Epoch 26/100\n",
            "20/20 [==============================] - 0s 4ms/step - loss: 0.4362 - accuracy: 0.7866 - val_loss: 0.5079 - val_accuracy: 0.7792\n",
            "Epoch 27/100\n",
            "20/20 [==============================] - 0s 5ms/step - loss: 0.4349 - accuracy: 0.7883 - val_loss: 0.5073 - val_accuracy: 0.7727\n",
            "Epoch 28/100\n",
            "20/20 [==============================] - 0s 4ms/step - loss: 0.4339 - accuracy: 0.7818 - val_loss: 0.5074 - val_accuracy: 0.7727\n",
            "Epoch 29/100\n",
            "20/20 [==============================] - 0s 4ms/step - loss: 0.4332 - accuracy: 0.7866 - val_loss: 0.5081 - val_accuracy: 0.7662\n",
            "Epoch 30/100\n",
            "20/20 [==============================] - 0s 5ms/step - loss: 0.4329 - accuracy: 0.7883 - val_loss: 0.5103 - val_accuracy: 0.7662\n",
            "Epoch 31/100\n",
            "20/20 [==============================] - 0s 4ms/step - loss: 0.4308 - accuracy: 0.7883 - val_loss: 0.5109 - val_accuracy: 0.7727\n",
            "Epoch 32/100\n",
            "20/20 [==============================] - 0s 5ms/step - loss: 0.4298 - accuracy: 0.7883 - val_loss: 0.5101 - val_accuracy: 0.7662\n",
            "Epoch 33/100\n",
            "20/20 [==============================] - 0s 5ms/step - loss: 0.4288 - accuracy: 0.7915 - val_loss: 0.5093 - val_accuracy: 0.7727\n",
            "Epoch 34/100\n",
            "20/20 [==============================] - 0s 6ms/step - loss: 0.4283 - accuracy: 0.7899 - val_loss: 0.5106 - val_accuracy: 0.7727\n",
            "Epoch 35/100\n",
            "20/20 [==============================] - 0s 5ms/step - loss: 0.4277 - accuracy: 0.7915 - val_loss: 0.5116 - val_accuracy: 0.7727\n",
            "Epoch 36/100\n",
            "20/20 [==============================] - 0s 4ms/step - loss: 0.4266 - accuracy: 0.7964 - val_loss: 0.5142 - val_accuracy: 0.7727\n",
            "Epoch 37/100\n",
            "20/20 [==============================] - 0s 5ms/step - loss: 0.4254 - accuracy: 0.7948 - val_loss: 0.5153 - val_accuracy: 0.7662\n",
            "Epoch 38/100\n",
            "20/20 [==============================] - 0s 4ms/step - loss: 0.4248 - accuracy: 0.7964 - val_loss: 0.5155 - val_accuracy: 0.7662\n",
            "Epoch 39/100\n",
            "20/20 [==============================] - 0s 4ms/step - loss: 0.4248 - accuracy: 0.7932 - val_loss: 0.5162 - val_accuracy: 0.7727\n",
            "Epoch 40/100\n",
            "20/20 [==============================] - 0s 5ms/step - loss: 0.4237 - accuracy: 0.7948 - val_loss: 0.5165 - val_accuracy: 0.7792\n",
            "Epoch 41/100\n",
            "20/20 [==============================] - 0s 4ms/step - loss: 0.4239 - accuracy: 0.7964 - val_loss: 0.5145 - val_accuracy: 0.7662\n",
            "Epoch 42/100\n",
            "20/20 [==============================] - 0s 5ms/step - loss: 0.4222 - accuracy: 0.7948 - val_loss: 0.5167 - val_accuracy: 0.7727\n",
            "Epoch 43/100\n",
            "20/20 [==============================] - 0s 5ms/step - loss: 0.4216 - accuracy: 0.7964 - val_loss: 0.5186 - val_accuracy: 0.7727\n",
            "Epoch 44/100\n",
            "20/20 [==============================] - 0s 6ms/step - loss: 0.4207 - accuracy: 0.7964 - val_loss: 0.5193 - val_accuracy: 0.7727\n",
            "Epoch 45/100\n",
            "20/20 [==============================] - 0s 5ms/step - loss: 0.4199 - accuracy: 0.7980 - val_loss: 0.5190 - val_accuracy: 0.7727\n",
            "Epoch 46/100\n",
            "20/20 [==============================] - 0s 4ms/step - loss: 0.4197 - accuracy: 0.7964 - val_loss: 0.5194 - val_accuracy: 0.7727\n",
            "Epoch 47/100\n",
            "20/20 [==============================] - 0s 5ms/step - loss: 0.4190 - accuracy: 0.7964 - val_loss: 0.5214 - val_accuracy: 0.7727\n",
            "Epoch 48/100\n",
            "20/20 [==============================] - 0s 4ms/step - loss: 0.4183 - accuracy: 0.7932 - val_loss: 0.5219 - val_accuracy: 0.7662\n",
            "Epoch 49/100\n",
            "20/20 [==============================] - 0s 4ms/step - loss: 0.4181 - accuracy: 0.7932 - val_loss: 0.5238 - val_accuracy: 0.7662\n",
            "Epoch 50/100\n",
            "20/20 [==============================] - 0s 5ms/step - loss: 0.4169 - accuracy: 0.7980 - val_loss: 0.5225 - val_accuracy: 0.7662\n",
            "Epoch 51/100\n",
            "20/20 [==============================] - 0s 4ms/step - loss: 0.4161 - accuracy: 0.7980 - val_loss: 0.5243 - val_accuracy: 0.7662\n",
            "Epoch 52/100\n",
            "20/20 [==============================] - 0s 4ms/step - loss: 0.4162 - accuracy: 0.8013 - val_loss: 0.5246 - val_accuracy: 0.7662\n",
            "Epoch 53/100\n",
            "20/20 [==============================] - 0s 5ms/step - loss: 0.4157 - accuracy: 0.7997 - val_loss: 0.5249 - val_accuracy: 0.7662\n",
            "Epoch 54/100\n",
            "20/20 [==============================] - 0s 6ms/step - loss: 0.4144 - accuracy: 0.8013 - val_loss: 0.5254 - val_accuracy: 0.7662\n",
            "Epoch 55/100\n",
            "20/20 [==============================] - 0s 5ms/step - loss: 0.4139 - accuracy: 0.8013 - val_loss: 0.5256 - val_accuracy: 0.7727\n",
            "Epoch 56/100\n",
            "20/20 [==============================] - 0s 4ms/step - loss: 0.4138 - accuracy: 0.8046 - val_loss: 0.5270 - val_accuracy: 0.7727\n",
            "Epoch 57/100\n",
            "20/20 [==============================] - 0s 5ms/step - loss: 0.4132 - accuracy: 0.7964 - val_loss: 0.5243 - val_accuracy: 0.7727\n",
            "Epoch 58/100\n",
            "20/20 [==============================] - 0s 4ms/step - loss: 0.4122 - accuracy: 0.8029 - val_loss: 0.5255 - val_accuracy: 0.7662\n",
            "Epoch 59/100\n",
            "20/20 [==============================] - 0s 4ms/step - loss: 0.4124 - accuracy: 0.8046 - val_loss: 0.5272 - val_accuracy: 0.7662\n",
            "Epoch 60/100\n",
            "20/20 [==============================] - 0s 4ms/step - loss: 0.4118 - accuracy: 0.8062 - val_loss: 0.5270 - val_accuracy: 0.7662\n",
            "Epoch 61/100\n",
            "20/20 [==============================] - 0s 4ms/step - loss: 0.4108 - accuracy: 0.7997 - val_loss: 0.5263 - val_accuracy: 0.7662\n",
            "Epoch 62/100\n",
            "20/20 [==============================] - 0s 4ms/step - loss: 0.4108 - accuracy: 0.8046 - val_loss: 0.5259 - val_accuracy: 0.7662\n",
            "Epoch 63/100\n",
            "20/20 [==============================] - 0s 4ms/step - loss: 0.4101 - accuracy: 0.8046 - val_loss: 0.5229 - val_accuracy: 0.7662\n",
            "Epoch 64/100\n",
            "20/20 [==============================] - 0s 6ms/step - loss: 0.4095 - accuracy: 0.8062 - val_loss: 0.5255 - val_accuracy: 0.7662\n",
            "Epoch 65/100\n",
            "20/20 [==============================] - 0s 5ms/step - loss: 0.4088 - accuracy: 0.8062 - val_loss: 0.5261 - val_accuracy: 0.7662\n",
            "Epoch 66/100\n",
            "20/20 [==============================] - 0s 4ms/step - loss: 0.4085 - accuracy: 0.8046 - val_loss: 0.5257 - val_accuracy: 0.7662\n",
            "Epoch 67/100\n",
            "20/20 [==============================] - 0s 4ms/step - loss: 0.4082 - accuracy: 0.8046 - val_loss: 0.5258 - val_accuracy: 0.7662\n",
            "Epoch 68/100\n",
            "20/20 [==============================] - 0s 5ms/step - loss: 0.4081 - accuracy: 0.8062 - val_loss: 0.5271 - val_accuracy: 0.7597\n",
            "Epoch 69/100\n",
            "20/20 [==============================] - 0s 4ms/step - loss: 0.4078 - accuracy: 0.8062 - val_loss: 0.5268 - val_accuracy: 0.7597\n",
            "Epoch 70/100\n",
            "20/20 [==============================] - 0s 5ms/step - loss: 0.4072 - accuracy: 0.8062 - val_loss: 0.5272 - val_accuracy: 0.7727\n",
            "Epoch 71/100\n",
            "20/20 [==============================] - 0s 4ms/step - loss: 0.4074 - accuracy: 0.8111 - val_loss: 0.5286 - val_accuracy: 0.7727\n",
            "Epoch 72/100\n",
            "20/20 [==============================] - 0s 4ms/step - loss: 0.4072 - accuracy: 0.8062 - val_loss: 0.5268 - val_accuracy: 0.7597\n",
            "Epoch 73/100\n",
            "20/20 [==============================] - 0s 4ms/step - loss: 0.4069 - accuracy: 0.8013 - val_loss: 0.5278 - val_accuracy: 0.7662\n",
            "Epoch 74/100\n",
            "20/20 [==============================] - 0s 6ms/step - loss: 0.4056 - accuracy: 0.8046 - val_loss: 0.5280 - val_accuracy: 0.7727\n",
            "Epoch 75/100\n",
            "20/20 [==============================] - 0s 5ms/step - loss: 0.4051 - accuracy: 0.8062 - val_loss: 0.5303 - val_accuracy: 0.7597\n",
            "Epoch 76/100\n",
            "20/20 [==============================] - 0s 4ms/step - loss: 0.4047 - accuracy: 0.8062 - val_loss: 0.5302 - val_accuracy: 0.7597\n",
            "Epoch 77/100\n",
            "20/20 [==============================] - 0s 4ms/step - loss: 0.4043 - accuracy: 0.8046 - val_loss: 0.5314 - val_accuracy: 0.7597\n",
            "Epoch 78/100\n",
            "20/20 [==============================] - 0s 4ms/step - loss: 0.4040 - accuracy: 0.8062 - val_loss: 0.5343 - val_accuracy: 0.7597\n",
            "Epoch 79/100\n",
            "20/20 [==============================] - 0s 5ms/step - loss: 0.4039 - accuracy: 0.8029 - val_loss: 0.5347 - val_accuracy: 0.7597\n",
            "Epoch 80/100\n",
            "20/20 [==============================] - 0s 6ms/step - loss: 0.4034 - accuracy: 0.8062 - val_loss: 0.5349 - val_accuracy: 0.7532\n",
            "Epoch 81/100\n",
            "20/20 [==============================] - 0s 6ms/step - loss: 0.4029 - accuracy: 0.8078 - val_loss: 0.5327 - val_accuracy: 0.7532\n",
            "Epoch 82/100\n",
            "20/20 [==============================] - 0s 6ms/step - loss: 0.4028 - accuracy: 0.8078 - val_loss: 0.5343 - val_accuracy: 0.7597\n",
            "Epoch 83/100\n",
            "20/20 [==============================] - 0s 8ms/step - loss: 0.4020 - accuracy: 0.8078 - val_loss: 0.5344 - val_accuracy: 0.7597\n",
            "Epoch 84/100\n",
            "20/20 [==============================] - 0s 7ms/step - loss: 0.4011 - accuracy: 0.8078 - val_loss: 0.5342 - val_accuracy: 0.7597\n",
            "Epoch 85/100\n",
            "20/20 [==============================] - 0s 6ms/step - loss: 0.4011 - accuracy: 0.8078 - val_loss: 0.5332 - val_accuracy: 0.7597\n",
            "Epoch 86/100\n",
            "20/20 [==============================] - 0s 7ms/step - loss: 0.4011 - accuracy: 0.8062 - val_loss: 0.5346 - val_accuracy: 0.7597\n",
            "Epoch 87/100\n",
            "20/20 [==============================] - 0s 6ms/step - loss: 0.4001 - accuracy: 0.8078 - val_loss: 0.5338 - val_accuracy: 0.7597\n",
            "Epoch 88/100\n",
            "20/20 [==============================] - 0s 6ms/step - loss: 0.4001 - accuracy: 0.8062 - val_loss: 0.5356 - val_accuracy: 0.7468\n",
            "Epoch 89/100\n",
            "20/20 [==============================] - 0s 6ms/step - loss: 0.3999 - accuracy: 0.8094 - val_loss: 0.5355 - val_accuracy: 0.7532\n",
            "Epoch 90/100\n",
            "20/20 [==============================] - 0s 7ms/step - loss: 0.3994 - accuracy: 0.8062 - val_loss: 0.5407 - val_accuracy: 0.7597\n",
            "Epoch 91/100\n",
            "20/20 [==============================] - 0s 6ms/step - loss: 0.3990 - accuracy: 0.8029 - val_loss: 0.5404 - val_accuracy: 0.7597\n",
            "Epoch 92/100\n",
            "20/20 [==============================] - 0s 7ms/step - loss: 0.3987 - accuracy: 0.8078 - val_loss: 0.5389 - val_accuracy: 0.7468\n",
            "Epoch 93/100\n",
            "20/20 [==============================] - 0s 7ms/step - loss: 0.3980 - accuracy: 0.8046 - val_loss: 0.5401 - val_accuracy: 0.7468\n",
            "Epoch 94/100\n",
            "20/20 [==============================] - 0s 8ms/step - loss: 0.3982 - accuracy: 0.8013 - val_loss: 0.5409 - val_accuracy: 0.7468\n",
            "Epoch 95/100\n",
            "20/20 [==============================] - 0s 6ms/step - loss: 0.3974 - accuracy: 0.8046 - val_loss: 0.5416 - val_accuracy: 0.7468\n",
            "Epoch 96/100\n",
            "20/20 [==============================] - 0s 6ms/step - loss: 0.3972 - accuracy: 0.8062 - val_loss: 0.5402 - val_accuracy: 0.7468\n",
            "Epoch 97/100\n",
            "20/20 [==============================] - 0s 8ms/step - loss: 0.3968 - accuracy: 0.8062 - val_loss: 0.5406 - val_accuracy: 0.7468\n",
            "Epoch 98/100\n",
            "20/20 [==============================] - 0s 8ms/step - loss: 0.3965 - accuracy: 0.8078 - val_loss: 0.5387 - val_accuracy: 0.7468\n",
            "Epoch 99/100\n",
            "20/20 [==============================] - 0s 6ms/step - loss: 0.3970 - accuracy: 0.8046 - val_loss: 0.5364 - val_accuracy: 0.7468\n",
            "Epoch 100/100\n",
            "20/20 [==============================] - 0s 6ms/step - loss: 0.3961 - accuracy: 0.8127 - val_loss: 0.5386 - val_accuracy: 0.7532\n"
          ]
        },
        {
          "output_type": "execute_result",
          "data": {
            "text/plain": [
              "<keras.src.callbacks.History at 0x7e5e0a943d00>"
            ]
          },
          "metadata": {},
          "execution_count": 41
        }
      ]
    },
    {
      "cell_type": "code",
      "source": [
        "def build_model(hp):\n",
        "  model=Sequential()\n",
        "  ## similar to choice there will be Int()\n",
        "  units=hp.Int('units',min_value=8,max_value=128)\n",
        "  model.add(Dense(units=units,activation='relu',input_dim=8))\n",
        "  model.add(Dense(1,activation='sigmoid'))\n",
        "  model.compile(optimizer='adam',loss='binary_crossentropy',metrics=['accuracy'])\n",
        "  return model"
      ],
      "metadata": {
        "id": "OGnu3mmuVrng"
      },
      "execution_count": null,
      "outputs": []
    },
    {
      "cell_type": "code",
      "source": [
        "#now tuner object\n",
        "tuner=kt.RandomSearch(build_model,objective='val_accuracy',max_trials=5,directory='mydir',project_name='Sanoop_final')"
      ],
      "metadata": {
        "id": "QCdbeNtMXx4n"
      },
      "execution_count": null,
      "outputs": []
    },
    {
      "cell_type": "code",
      "source": [
        "tuner.search(X_train,y_train,epochs=5,validation_data=(X_test,y_test))"
      ],
      "metadata": {
        "colab": {
          "base_uri": "https://localhost:8080/"
        },
        "id": "f8KLa4rSYm_C",
        "outputId": "c3ae2e98-6ac1-4e81-ea58-2bade98879bb"
      },
      "execution_count": null,
      "outputs": [
        {
          "output_type": "stream",
          "name": "stdout",
          "text": [
            "Trial 5 Complete [00h 00m 02s]\n",
            "val_accuracy: 0.6623376607894897\n",
            "\n",
            "Best val_accuracy So Far: 0.798701286315918\n",
            "Total elapsed time: 00h 00m 12s\n"
          ]
        }
      ]
    },
    {
      "cell_type": "code",
      "source": [
        "tuner.get_best_hyperparameters()[0].values"
      ],
      "metadata": {
        "colab": {
          "base_uri": "https://localhost:8080/"
        },
        "id": "WmzAoJhFYwaG",
        "outputId": "2166496f-3367-464d-801c-0bd78ea97686"
      },
      "execution_count": null,
      "outputs": [
        {
          "output_type": "execute_result",
          "data": {
            "text/plain": [
              "{'units': 33}"
            ]
          },
          "metadata": {},
          "execution_count": 65
        }
      ]
    },
    {
      "cell_type": "code",
      "source": [
        "model=tuner.get_best_models(num_models=1)[0]"
      ],
      "metadata": {
        "id": "9BEbwp5-aK_N"
      },
      "execution_count": null,
      "outputs": []
    },
    {
      "cell_type": "code",
      "source": [
        "model.fit(X_train,y_train,batch_size=32,epochs=100,initial_epoch=6,validation_data=(X_test,y_test))"
      ],
      "metadata": {
        "colab": {
          "base_uri": "https://localhost:8080/"
        },
        "id": "MarRjR3daoUS",
        "outputId": "59c87fd3-0acd-4746-9731-c8888411918a"
      },
      "execution_count": null,
      "outputs": [
        {
          "output_type": "stream",
          "name": "stdout",
          "text": [
            "Epoch 7/100\n",
            "20/20 [==============================] - 1s 13ms/step - loss: 0.5389 - accuracy: 0.7476 - val_loss: 0.5046 - val_accuracy: 0.8052\n",
            "Epoch 8/100\n",
            "20/20 [==============================] - 0s 4ms/step - loss: 0.5214 - accuracy: 0.7590 - val_loss: 0.4949 - val_accuracy: 0.8182\n",
            "Epoch 9/100\n",
            "20/20 [==============================] - 0s 4ms/step - loss: 0.5084 - accuracy: 0.7573 - val_loss: 0.4895 - val_accuracy: 0.8247\n",
            "Epoch 10/100\n",
            "20/20 [==============================] - 0s 5ms/step - loss: 0.4966 - accuracy: 0.7606 - val_loss: 0.4849 - val_accuracy: 0.8117\n",
            "Epoch 11/100\n",
            "20/20 [==============================] - 0s 4ms/step - loss: 0.4878 - accuracy: 0.7655 - val_loss: 0.4822 - val_accuracy: 0.8052\n",
            "Epoch 12/100\n",
            "20/20 [==============================] - 0s 4ms/step - loss: 0.4806 - accuracy: 0.7720 - val_loss: 0.4806 - val_accuracy: 0.8117\n",
            "Epoch 13/100\n",
            "20/20 [==============================] - 0s 4ms/step - loss: 0.4737 - accuracy: 0.7720 - val_loss: 0.4813 - val_accuracy: 0.8052\n",
            "Epoch 14/100\n",
            "20/20 [==============================] - 0s 4ms/step - loss: 0.4689 - accuracy: 0.7687 - val_loss: 0.4809 - val_accuracy: 0.8052\n",
            "Epoch 15/100\n",
            "20/20 [==============================] - 0s 5ms/step - loss: 0.4643 - accuracy: 0.7671 - val_loss: 0.4819 - val_accuracy: 0.8117\n",
            "Epoch 16/100\n",
            "20/20 [==============================] - 0s 4ms/step - loss: 0.4606 - accuracy: 0.7720 - val_loss: 0.4830 - val_accuracy: 0.8117\n",
            "Epoch 17/100\n",
            "20/20 [==============================] - 0s 4ms/step - loss: 0.4577 - accuracy: 0.7720 - val_loss: 0.4838 - val_accuracy: 0.7922\n",
            "Epoch 18/100\n",
            "20/20 [==============================] - 0s 4ms/step - loss: 0.4548 - accuracy: 0.7785 - val_loss: 0.4866 - val_accuracy: 0.7922\n",
            "Epoch 19/100\n",
            "20/20 [==============================] - 0s 4ms/step - loss: 0.4525 - accuracy: 0.7785 - val_loss: 0.4895 - val_accuracy: 0.7792\n",
            "Epoch 20/100\n",
            "20/20 [==============================] - 0s 4ms/step - loss: 0.4502 - accuracy: 0.7801 - val_loss: 0.4897 - val_accuracy: 0.7857\n",
            "Epoch 21/100\n",
            "20/20 [==============================] - 0s 4ms/step - loss: 0.4481 - accuracy: 0.7801 - val_loss: 0.4917 - val_accuracy: 0.7727\n",
            "Epoch 22/100\n",
            "20/20 [==============================] - 0s 4ms/step - loss: 0.4468 - accuracy: 0.7801 - val_loss: 0.4941 - val_accuracy: 0.7792\n",
            "Epoch 23/100\n",
            "20/20 [==============================] - 0s 4ms/step - loss: 0.4451 - accuracy: 0.7818 - val_loss: 0.4975 - val_accuracy: 0.7792\n",
            "Epoch 24/100\n",
            "20/20 [==============================] - 0s 4ms/step - loss: 0.4432 - accuracy: 0.7834 - val_loss: 0.4998 - val_accuracy: 0.7792\n",
            "Epoch 25/100\n",
            "20/20 [==============================] - 0s 4ms/step - loss: 0.4419 - accuracy: 0.7818 - val_loss: 0.5016 - val_accuracy: 0.7792\n",
            "Epoch 26/100\n",
            "20/20 [==============================] - 0s 5ms/step - loss: 0.4413 - accuracy: 0.7834 - val_loss: 0.5039 - val_accuracy: 0.7727\n",
            "Epoch 27/100\n",
            "20/20 [==============================] - 0s 5ms/step - loss: 0.4397 - accuracy: 0.7850 - val_loss: 0.5069 - val_accuracy: 0.7727\n",
            "Epoch 28/100\n",
            "20/20 [==============================] - 0s 4ms/step - loss: 0.4388 - accuracy: 0.7850 - val_loss: 0.5081 - val_accuracy: 0.7727\n",
            "Epoch 29/100\n",
            "20/20 [==============================] - 0s 4ms/step - loss: 0.4379 - accuracy: 0.7834 - val_loss: 0.5097 - val_accuracy: 0.7792\n",
            "Epoch 30/100\n",
            "20/20 [==============================] - 0s 4ms/step - loss: 0.4373 - accuracy: 0.7850 - val_loss: 0.5107 - val_accuracy: 0.7727\n",
            "Epoch 31/100\n",
            "20/20 [==============================] - 0s 3ms/step - loss: 0.4362 - accuracy: 0.7866 - val_loss: 0.5118 - val_accuracy: 0.7727\n",
            "Epoch 32/100\n",
            "20/20 [==============================] - 0s 4ms/step - loss: 0.4353 - accuracy: 0.7899 - val_loss: 0.5130 - val_accuracy: 0.7727\n",
            "Epoch 33/100\n",
            "20/20 [==============================] - 0s 4ms/step - loss: 0.4342 - accuracy: 0.7948 - val_loss: 0.5150 - val_accuracy: 0.7727\n",
            "Epoch 34/100\n",
            "20/20 [==============================] - 0s 4ms/step - loss: 0.4332 - accuracy: 0.7915 - val_loss: 0.5154 - val_accuracy: 0.7727\n",
            "Epoch 35/100\n",
            "20/20 [==============================] - 0s 4ms/step - loss: 0.4322 - accuracy: 0.7915 - val_loss: 0.5158 - val_accuracy: 0.7662\n",
            "Epoch 36/100\n",
            "20/20 [==============================] - 0s 4ms/step - loss: 0.4313 - accuracy: 0.7883 - val_loss: 0.5173 - val_accuracy: 0.7662\n",
            "Epoch 37/100\n",
            "20/20 [==============================] - 0s 6ms/step - loss: 0.4312 - accuracy: 0.7883 - val_loss: 0.5193 - val_accuracy: 0.7662\n",
            "Epoch 38/100\n",
            "20/20 [==============================] - 0s 5ms/step - loss: 0.4300 - accuracy: 0.7866 - val_loss: 0.5197 - val_accuracy: 0.7662\n",
            "Epoch 39/100\n",
            "20/20 [==============================] - 0s 4ms/step - loss: 0.4289 - accuracy: 0.7915 - val_loss: 0.5202 - val_accuracy: 0.7662\n",
            "Epoch 40/100\n",
            "20/20 [==============================] - 0s 4ms/step - loss: 0.4282 - accuracy: 0.7948 - val_loss: 0.5216 - val_accuracy: 0.7662\n",
            "Epoch 41/100\n",
            "20/20 [==============================] - 0s 4ms/step - loss: 0.4280 - accuracy: 0.7899 - val_loss: 0.5219 - val_accuracy: 0.7597\n",
            "Epoch 42/100\n",
            "20/20 [==============================] - 0s 4ms/step - loss: 0.4270 - accuracy: 0.7883 - val_loss: 0.5216 - val_accuracy: 0.7597\n",
            "Epoch 43/100\n",
            "20/20 [==============================] - 0s 4ms/step - loss: 0.4267 - accuracy: 0.7932 - val_loss: 0.5233 - val_accuracy: 0.7662\n",
            "Epoch 44/100\n",
            "20/20 [==============================] - 0s 4ms/step - loss: 0.4261 - accuracy: 0.7883 - val_loss: 0.5240 - val_accuracy: 0.7662\n",
            "Epoch 45/100\n",
            "20/20 [==============================] - 0s 4ms/step - loss: 0.4250 - accuracy: 0.7899 - val_loss: 0.5226 - val_accuracy: 0.7662\n",
            "Epoch 46/100\n",
            "20/20 [==============================] - 0s 4ms/step - loss: 0.4245 - accuracy: 0.7964 - val_loss: 0.5233 - val_accuracy: 0.7662\n",
            "Epoch 47/100\n",
            "20/20 [==============================] - 0s 4ms/step - loss: 0.4235 - accuracy: 0.7948 - val_loss: 0.5229 - val_accuracy: 0.7662\n",
            "Epoch 48/100\n",
            "20/20 [==============================] - 0s 6ms/step - loss: 0.4234 - accuracy: 0.7964 - val_loss: 0.5242 - val_accuracy: 0.7662\n",
            "Epoch 49/100\n",
            "20/20 [==============================] - 0s 5ms/step - loss: 0.4222 - accuracy: 0.7964 - val_loss: 0.5250 - val_accuracy: 0.7662\n",
            "Epoch 50/100\n",
            "20/20 [==============================] - 0s 4ms/step - loss: 0.4217 - accuracy: 0.7948 - val_loss: 0.5242 - val_accuracy: 0.7662\n",
            "Epoch 51/100\n",
            "20/20 [==============================] - 0s 4ms/step - loss: 0.4206 - accuracy: 0.7948 - val_loss: 0.5236 - val_accuracy: 0.7597\n",
            "Epoch 52/100\n",
            "20/20 [==============================] - 0s 4ms/step - loss: 0.4205 - accuracy: 0.7980 - val_loss: 0.5244 - val_accuracy: 0.7597\n",
            "Epoch 53/100\n",
            "20/20 [==============================] - 0s 4ms/step - loss: 0.4198 - accuracy: 0.7948 - val_loss: 0.5265 - val_accuracy: 0.7597\n",
            "Epoch 54/100\n",
            "20/20 [==============================] - 0s 4ms/step - loss: 0.4193 - accuracy: 0.7964 - val_loss: 0.5272 - val_accuracy: 0.7597\n",
            "Epoch 55/100\n",
            "20/20 [==============================] - 0s 4ms/step - loss: 0.4188 - accuracy: 0.7948 - val_loss: 0.5293 - val_accuracy: 0.7468\n",
            "Epoch 56/100\n",
            "20/20 [==============================] - 0s 4ms/step - loss: 0.4184 - accuracy: 0.7915 - val_loss: 0.5317 - val_accuracy: 0.7403\n",
            "Epoch 57/100\n",
            "20/20 [==============================] - 0s 4ms/step - loss: 0.4177 - accuracy: 0.7915 - val_loss: 0.5336 - val_accuracy: 0.7403\n",
            "Epoch 58/100\n",
            "20/20 [==============================] - 0s 5ms/step - loss: 0.4169 - accuracy: 0.7932 - val_loss: 0.5338 - val_accuracy: 0.7403\n",
            "Epoch 59/100\n",
            "20/20 [==============================] - 0s 5ms/step - loss: 0.4163 - accuracy: 0.7980 - val_loss: 0.5332 - val_accuracy: 0.7468\n",
            "Epoch 60/100\n",
            "20/20 [==============================] - 0s 4ms/step - loss: 0.4156 - accuracy: 0.7964 - val_loss: 0.5318 - val_accuracy: 0.7403\n",
            "Epoch 61/100\n",
            "20/20 [==============================] - 0s 4ms/step - loss: 0.4156 - accuracy: 0.7997 - val_loss: 0.5323 - val_accuracy: 0.7468\n",
            "Epoch 62/100\n",
            "20/20 [==============================] - 0s 4ms/step - loss: 0.4150 - accuracy: 0.7980 - val_loss: 0.5315 - val_accuracy: 0.7597\n",
            "Epoch 63/100\n",
            "20/20 [==============================] - 0s 4ms/step - loss: 0.4143 - accuracy: 0.7964 - val_loss: 0.5328 - val_accuracy: 0.7532\n",
            "Epoch 64/100\n",
            "20/20 [==============================] - 0s 4ms/step - loss: 0.4142 - accuracy: 0.7980 - val_loss: 0.5319 - val_accuracy: 0.7468\n",
            "Epoch 65/100\n",
            "20/20 [==============================] - 0s 6ms/step - loss: 0.4140 - accuracy: 0.8029 - val_loss: 0.5344 - val_accuracy: 0.7597\n",
            "Epoch 66/100\n",
            "20/20 [==============================] - 0s 4ms/step - loss: 0.4132 - accuracy: 0.8029 - val_loss: 0.5337 - val_accuracy: 0.7532\n",
            "Epoch 67/100\n",
            "20/20 [==============================] - 0s 4ms/step - loss: 0.4124 - accuracy: 0.8029 - val_loss: 0.5343 - val_accuracy: 0.7468\n",
            "Epoch 68/100\n",
            "20/20 [==============================] - 0s 4ms/step - loss: 0.4125 - accuracy: 0.7997 - val_loss: 0.5349 - val_accuracy: 0.7468\n",
            "Epoch 69/100\n",
            "20/20 [==============================] - 0s 6ms/step - loss: 0.4119 - accuracy: 0.7980 - val_loss: 0.5359 - val_accuracy: 0.7468\n",
            "Epoch 70/100\n",
            "20/20 [==============================] - 0s 5ms/step - loss: 0.4113 - accuracy: 0.7997 - val_loss: 0.5354 - val_accuracy: 0.7468\n",
            "Epoch 71/100\n",
            "20/20 [==============================] - 0s 4ms/step - loss: 0.4111 - accuracy: 0.7980 - val_loss: 0.5346 - val_accuracy: 0.7468\n",
            "Epoch 72/100\n",
            "20/20 [==============================] - 0s 4ms/step - loss: 0.4110 - accuracy: 0.8013 - val_loss: 0.5348 - val_accuracy: 0.7532\n",
            "Epoch 73/100\n",
            "20/20 [==============================] - 0s 4ms/step - loss: 0.4102 - accuracy: 0.8013 - val_loss: 0.5344 - val_accuracy: 0.7597\n",
            "Epoch 74/100\n",
            "20/20 [==============================] - 0s 4ms/step - loss: 0.4098 - accuracy: 0.8094 - val_loss: 0.5352 - val_accuracy: 0.7662\n",
            "Epoch 75/100\n",
            "20/20 [==============================] - 0s 4ms/step - loss: 0.4102 - accuracy: 0.8127 - val_loss: 0.5367 - val_accuracy: 0.7597\n",
            "Epoch 76/100\n",
            "20/20 [==============================] - 0s 5ms/step - loss: 0.4088 - accuracy: 0.8094 - val_loss: 0.5372 - val_accuracy: 0.7532\n",
            "Epoch 77/100\n",
            "20/20 [==============================] - 0s 4ms/step - loss: 0.4089 - accuracy: 0.8029 - val_loss: 0.5382 - val_accuracy: 0.7532\n",
            "Epoch 78/100\n",
            "20/20 [==============================] - 0s 4ms/step - loss: 0.4082 - accuracy: 0.8078 - val_loss: 0.5387 - val_accuracy: 0.7597\n",
            "Epoch 79/100\n",
            "20/20 [==============================] - 0s 5ms/step - loss: 0.4081 - accuracy: 0.8094 - val_loss: 0.5369 - val_accuracy: 0.7597\n",
            "Epoch 80/100\n",
            "20/20 [==============================] - 0s 5ms/step - loss: 0.4078 - accuracy: 0.7997 - val_loss: 0.5363 - val_accuracy: 0.7597\n",
            "Epoch 81/100\n",
            "20/20 [==============================] - 0s 4ms/step - loss: 0.4072 - accuracy: 0.8013 - val_loss: 0.5361 - val_accuracy: 0.7597\n",
            "Epoch 82/100\n",
            "20/20 [==============================] - 0s 4ms/step - loss: 0.4073 - accuracy: 0.8013 - val_loss: 0.5368 - val_accuracy: 0.7597\n",
            "Epoch 83/100\n",
            "20/20 [==============================] - 0s 4ms/step - loss: 0.4069 - accuracy: 0.8013 - val_loss: 0.5362 - val_accuracy: 0.7597\n",
            "Epoch 84/100\n",
            "20/20 [==============================] - 0s 4ms/step - loss: 0.4065 - accuracy: 0.8029 - val_loss: 0.5362 - val_accuracy: 0.7597\n",
            "Epoch 85/100\n",
            "20/20 [==============================] - 0s 4ms/step - loss: 0.4062 - accuracy: 0.8013 - val_loss: 0.5399 - val_accuracy: 0.7597\n",
            "Epoch 86/100\n",
            "20/20 [==============================] - 0s 4ms/step - loss: 0.4061 - accuracy: 0.8143 - val_loss: 0.5378 - val_accuracy: 0.7662\n",
            "Epoch 87/100\n",
            "20/20 [==============================] - 0s 4ms/step - loss: 0.4050 - accuracy: 0.8127 - val_loss: 0.5392 - val_accuracy: 0.7727\n",
            "Epoch 88/100\n",
            "20/20 [==============================] - 0s 4ms/step - loss: 0.4046 - accuracy: 0.8046 - val_loss: 0.5393 - val_accuracy: 0.7662\n",
            "Epoch 89/100\n",
            "20/20 [==============================] - 0s 5ms/step - loss: 0.4048 - accuracy: 0.8013 - val_loss: 0.5387 - val_accuracy: 0.7662\n",
            "Epoch 90/100\n",
            "20/20 [==============================] - 0s 5ms/step - loss: 0.4043 - accuracy: 0.8078 - val_loss: 0.5375 - val_accuracy: 0.7662\n",
            "Epoch 91/100\n",
            "20/20 [==============================] - 0s 5ms/step - loss: 0.4037 - accuracy: 0.8062 - val_loss: 0.5389 - val_accuracy: 0.7727\n",
            "Epoch 92/100\n",
            "20/20 [==============================] - 0s 4ms/step - loss: 0.4032 - accuracy: 0.8094 - val_loss: 0.5397 - val_accuracy: 0.7662\n",
            "Epoch 93/100\n",
            "20/20 [==============================] - 0s 4ms/step - loss: 0.4028 - accuracy: 0.8078 - val_loss: 0.5410 - val_accuracy: 0.7662\n",
            "Epoch 94/100\n",
            "20/20 [==============================] - 0s 4ms/step - loss: 0.4032 - accuracy: 0.8029 - val_loss: 0.5408 - val_accuracy: 0.7597\n",
            "Epoch 95/100\n",
            "20/20 [==============================] - 0s 4ms/step - loss: 0.4026 - accuracy: 0.8094 - val_loss: 0.5418 - val_accuracy: 0.7662\n",
            "Epoch 96/100\n",
            "20/20 [==============================] - 0s 4ms/step - loss: 0.4025 - accuracy: 0.8127 - val_loss: 0.5427 - val_accuracy: 0.7597\n",
            "Epoch 97/100\n",
            "20/20 [==============================] - 0s 4ms/step - loss: 0.4017 - accuracy: 0.8127 - val_loss: 0.5439 - val_accuracy: 0.7662\n",
            "Epoch 98/100\n",
            "20/20 [==============================] - 0s 4ms/step - loss: 0.4014 - accuracy: 0.8094 - val_loss: 0.5439 - val_accuracy: 0.7468\n",
            "Epoch 99/100\n",
            "20/20 [==============================] - 0s 4ms/step - loss: 0.4012 - accuracy: 0.8078 - val_loss: 0.5434 - val_accuracy: 0.7532\n",
            "Epoch 100/100\n",
            "20/20 [==============================] - 0s 4ms/step - loss: 0.4003 - accuracy: 0.8111 - val_loss: 0.5416 - val_accuracy: 0.7597\n"
          ]
        },
        {
          "output_type": "execute_result",
          "data": {
            "text/plain": [
              "<keras.src.callbacks.History at 0x7e5e0a30f190>"
            ]
          },
          "metadata": {},
          "execution_count": 67
        }
      ]
    },
    {
      "cell_type": "code",
      "source": [
        "## now how to select number of layers"
      ],
      "metadata": {
        "id": "aaUk94Yqa7-a"
      },
      "execution_count": null,
      "outputs": []
    },
    {
      "cell_type": "code",
      "source": [
        "def build_model(hp):\n",
        "  model=Sequential()\n",
        "  model.add(Dense(72,activation='relu',input_dim=8))\n",
        "  for i in range(hp.Int('num_layers',min_value=1,max_value=10)):\n",
        "    model.add(Dense(72,activation='relu'))\n",
        "  model.add(Dense(1,activation='sigmoid'))\n",
        "  model.compile(optimizer='adam',loss='binary_crossentropy',metrics=['accuracy'])\n",
        "  return model"
      ],
      "metadata": {
        "id": "XOGMKqr5bdzE"
      },
      "execution_count": null,
      "outputs": []
    },
    {
      "cell_type": "code",
      "source": [
        "tuner=kt.RandomSearch(build_model,objective='val_accuracy',max_trials=3,directory='mydir',project_name='Sanoop_Layers')"
      ],
      "metadata": {
        "id": "28VVxFwCcJKu"
      },
      "execution_count": null,
      "outputs": []
    },
    {
      "cell_type": "code",
      "source": [
        "tuner.search(X_train,y_train,epochs=5,validation_data=(X_test,y_test))"
      ],
      "metadata": {
        "colab": {
          "base_uri": "https://localhost:8080/"
        },
        "id": "8jLkDTdHcroV",
        "outputId": "27aa53d1-a52d-40b8-9a04-898cc96f30c7"
      },
      "execution_count": null,
      "outputs": [
        {
          "output_type": "stream",
          "name": "stdout",
          "text": [
            "Trial 3 Complete [00h 00m 03s]\n",
            "val_accuracy: 0.7727272510528564\n",
            "\n",
            "Best val_accuracy So Far: 0.7792207598686218\n",
            "Total elapsed time: 00h 00m 11s\n"
          ]
        }
      ]
    },
    {
      "cell_type": "code",
      "source": [
        "tuner.get_best_hyperparameters()[0].values"
      ],
      "metadata": {
        "colab": {
          "base_uri": "https://localhost:8080/"
        },
        "id": "6wEwrFPUc0LX",
        "outputId": "e5bf3b9e-7d01-4930-8691-aff262210008"
      },
      "execution_count": null,
      "outputs": [
        {
          "output_type": "execute_result",
          "data": {
            "text/plain": [
              "{'num_layers': 5}"
            ]
          },
          "metadata": {},
          "execution_count": 73
        }
      ]
    },
    {
      "cell_type": "code",
      "source": [
        "model=tuner.get_best_models(num_models=1)[0]"
      ],
      "metadata": {
        "id": "mp9toYtDc-a_"
      },
      "execution_count": null,
      "outputs": []
    },
    {
      "cell_type": "code",
      "source": [
        "model.fit(X_train,y_train,batch_size=32,epochs=100,initial_epoch=4,validation_data=(X_test,y_test))"
      ],
      "metadata": {
        "colab": {
          "base_uri": "https://localhost:8080/"
        },
        "id": "p0FB8insdGFK",
        "outputId": "7f741d91-72bd-4d05-d968-2e4d3e227d3a"
      },
      "execution_count": null,
      "outputs": [
        {
          "output_type": "stream",
          "name": "stdout",
          "text": [
            "Epoch 5/100\n",
            "20/20 [==============================] - 2s 15ms/step - loss: 0.4504 - accuracy: 0.7736 - val_loss: 0.5268 - val_accuracy: 0.7662\n",
            "Epoch 6/100\n",
            "20/20 [==============================] - 0s 6ms/step - loss: 0.4225 - accuracy: 0.7883 - val_loss: 0.5339 - val_accuracy: 0.7468\n",
            "Epoch 7/100\n",
            "20/20 [==============================] - 0s 5ms/step - loss: 0.4137 - accuracy: 0.8029 - val_loss: 0.5746 - val_accuracy: 0.7662\n",
            "Epoch 8/100\n",
            "20/20 [==============================] - 0s 6ms/step - loss: 0.4100 - accuracy: 0.8029 - val_loss: 0.5354 - val_accuracy: 0.7532\n",
            "Epoch 9/100\n",
            "20/20 [==============================] - 0s 6ms/step - loss: 0.3895 - accuracy: 0.8208 - val_loss: 0.5572 - val_accuracy: 0.7532\n",
            "Epoch 10/100\n",
            "20/20 [==============================] - 0s 5ms/step - loss: 0.3700 - accuracy: 0.8339 - val_loss: 0.5859 - val_accuracy: 0.7143\n",
            "Epoch 11/100\n",
            "20/20 [==============================] - 0s 5ms/step - loss: 0.3629 - accuracy: 0.8306 - val_loss: 0.6154 - val_accuracy: 0.7338\n",
            "Epoch 12/100\n",
            "20/20 [==============================] - 0s 5ms/step - loss: 0.3623 - accuracy: 0.8404 - val_loss: 0.5661 - val_accuracy: 0.7273\n",
            "Epoch 13/100\n",
            "20/20 [==============================] - 0s 6ms/step - loss: 0.3495 - accuracy: 0.8388 - val_loss: 0.6093 - val_accuracy: 0.7403\n",
            "Epoch 14/100\n",
            "20/20 [==============================] - 0s 6ms/step - loss: 0.3334 - accuracy: 0.8534 - val_loss: 0.6214 - val_accuracy: 0.7597\n",
            "Epoch 15/100\n",
            "20/20 [==============================] - 0s 5ms/step - loss: 0.3200 - accuracy: 0.8518 - val_loss: 0.6858 - val_accuracy: 0.7468\n",
            "Epoch 16/100\n",
            "20/20 [==============================] - 0s 6ms/step - loss: 0.3100 - accuracy: 0.8632 - val_loss: 0.7073 - val_accuracy: 0.7338\n",
            "Epoch 17/100\n",
            "20/20 [==============================] - 0s 5ms/step - loss: 0.3022 - accuracy: 0.8681 - val_loss: 0.6976 - val_accuracy: 0.7273\n",
            "Epoch 18/100\n",
            "20/20 [==============================] - 0s 6ms/step - loss: 0.2679 - accuracy: 0.8827 - val_loss: 0.7325 - val_accuracy: 0.7338\n",
            "Epoch 19/100\n",
            "20/20 [==============================] - 0s 5ms/step - loss: 0.2465 - accuracy: 0.8925 - val_loss: 0.8142 - val_accuracy: 0.6753\n",
            "Epoch 20/100\n",
            "20/20 [==============================] - 0s 5ms/step - loss: 0.2629 - accuracy: 0.8827 - val_loss: 0.7605 - val_accuracy: 0.7468\n",
            "Epoch 21/100\n",
            "20/20 [==============================] - 0s 5ms/step - loss: 0.2085 - accuracy: 0.9186 - val_loss: 0.8633 - val_accuracy: 0.6883\n",
            "Epoch 22/100\n",
            "20/20 [==============================] - 0s 6ms/step - loss: 0.1844 - accuracy: 0.9316 - val_loss: 0.8752 - val_accuracy: 0.7532\n",
            "Epoch 23/100\n",
            "20/20 [==============================] - 0s 5ms/step - loss: 0.1880 - accuracy: 0.9235 - val_loss: 0.9992 - val_accuracy: 0.6883\n",
            "Epoch 24/100\n",
            "20/20 [==============================] - 0s 5ms/step - loss: 0.2049 - accuracy: 0.9104 - val_loss: 0.9659 - val_accuracy: 0.7078\n",
            "Epoch 25/100\n",
            "20/20 [==============================] - 0s 5ms/step - loss: 0.1871 - accuracy: 0.9267 - val_loss: 1.1103 - val_accuracy: 0.7078\n",
            "Epoch 26/100\n",
            "20/20 [==============================] - 0s 4ms/step - loss: 0.1916 - accuracy: 0.9218 - val_loss: 0.9657 - val_accuracy: 0.6948\n",
            "Epoch 27/100\n",
            "20/20 [==============================] - 0s 5ms/step - loss: 0.1818 - accuracy: 0.9267 - val_loss: 1.0678 - val_accuracy: 0.7143\n",
            "Epoch 28/100\n",
            "20/20 [==============================] - 0s 5ms/step - loss: 0.1942 - accuracy: 0.9202 - val_loss: 0.9766 - val_accuracy: 0.6948\n",
            "Epoch 29/100\n",
            "20/20 [==============================] - 0s 4ms/step - loss: 0.1714 - accuracy: 0.9251 - val_loss: 0.9144 - val_accuracy: 0.7208\n",
            "Epoch 30/100\n",
            "20/20 [==============================] - 0s 5ms/step - loss: 0.1241 - accuracy: 0.9593 - val_loss: 1.0648 - val_accuracy: 0.7013\n",
            "Epoch 31/100\n",
            "20/20 [==============================] - 0s 6ms/step - loss: 0.0945 - accuracy: 0.9691 - val_loss: 1.2124 - val_accuracy: 0.7078\n",
            "Epoch 32/100\n",
            "20/20 [==============================] - 0s 5ms/step - loss: 0.1182 - accuracy: 0.9609 - val_loss: 1.2036 - val_accuracy: 0.7013\n",
            "Epoch 33/100\n",
            "20/20 [==============================] - 0s 4ms/step - loss: 0.0848 - accuracy: 0.9625 - val_loss: 1.2725 - val_accuracy: 0.6948\n",
            "Epoch 34/100\n",
            "20/20 [==============================] - 0s 5ms/step - loss: 0.0590 - accuracy: 0.9772 - val_loss: 1.3996 - val_accuracy: 0.7143\n",
            "Epoch 35/100\n",
            "20/20 [==============================] - 0s 6ms/step - loss: 0.0787 - accuracy: 0.9691 - val_loss: 1.4881 - val_accuracy: 0.7273\n",
            "Epoch 36/100\n",
            "20/20 [==============================] - 0s 6ms/step - loss: 0.1159 - accuracy: 0.9463 - val_loss: 1.4277 - val_accuracy: 0.7078\n",
            "Epoch 37/100\n",
            "20/20 [==============================] - 0s 5ms/step - loss: 0.1243 - accuracy: 0.9577 - val_loss: 1.2671 - val_accuracy: 0.7143\n",
            "Epoch 38/100\n",
            "20/20 [==============================] - 0s 5ms/step - loss: 0.1027 - accuracy: 0.9609 - val_loss: 1.2062 - val_accuracy: 0.7338\n",
            "Epoch 39/100\n",
            "20/20 [==============================] - 0s 5ms/step - loss: 0.0475 - accuracy: 0.9886 - val_loss: 1.3299 - val_accuracy: 0.7143\n",
            "Epoch 40/100\n",
            "20/20 [==============================] - 0s 7ms/step - loss: 0.0492 - accuracy: 0.9853 - val_loss: 1.5312 - val_accuracy: 0.7208\n",
            "Epoch 41/100\n",
            "20/20 [==============================] - 0s 5ms/step - loss: 0.0335 - accuracy: 0.9951 - val_loss: 1.5500 - val_accuracy: 0.7208\n",
            "Epoch 42/100\n",
            "20/20 [==============================] - 0s 4ms/step - loss: 0.0244 - accuracy: 0.9967 - val_loss: 1.5705 - val_accuracy: 0.7273\n",
            "Epoch 43/100\n",
            "20/20 [==============================] - 0s 6ms/step - loss: 0.0184 - accuracy: 0.9967 - val_loss: 1.6613 - val_accuracy: 0.7273\n",
            "Epoch 44/100\n",
            "20/20 [==============================] - 0s 5ms/step - loss: 0.0139 - accuracy: 0.9967 - val_loss: 1.8549 - val_accuracy: 0.7338\n",
            "Epoch 45/100\n",
            "20/20 [==============================] - 0s 6ms/step - loss: 0.0142 - accuracy: 0.9967 - val_loss: 1.7999 - val_accuracy: 0.7143\n",
            "Epoch 46/100\n",
            "20/20 [==============================] - 0s 6ms/step - loss: 0.0159 - accuracy: 0.9967 - val_loss: 2.0256 - val_accuracy: 0.7143\n",
            "Epoch 47/100\n",
            "20/20 [==============================] - 0s 6ms/step - loss: 0.0172 - accuracy: 0.9951 - val_loss: 2.0799 - val_accuracy: 0.7078\n",
            "Epoch 48/100\n",
            "20/20 [==============================] - 0s 6ms/step - loss: 0.0355 - accuracy: 0.9919 - val_loss: 2.0068 - val_accuracy: 0.7208\n",
            "Epoch 49/100\n",
            "20/20 [==============================] - 0s 6ms/step - loss: 0.0229 - accuracy: 0.9919 - val_loss: 1.9374 - val_accuracy: 0.7208\n",
            "Epoch 50/100\n",
            "20/20 [==============================] - 0s 5ms/step - loss: 0.0512 - accuracy: 0.9805 - val_loss: 1.8228 - val_accuracy: 0.7078\n",
            "Epoch 51/100\n",
            "20/20 [==============================] - 0s 5ms/step - loss: 0.0676 - accuracy: 0.9739 - val_loss: 1.9855 - val_accuracy: 0.6818\n",
            "Epoch 52/100\n",
            "20/20 [==============================] - 0s 5ms/step - loss: 0.0506 - accuracy: 0.9772 - val_loss: 1.8440 - val_accuracy: 0.6623\n",
            "Epoch 53/100\n",
            "20/20 [==============================] - 0s 5ms/step - loss: 0.0637 - accuracy: 0.9821 - val_loss: 1.9050 - val_accuracy: 0.6883\n",
            "Epoch 54/100\n",
            "20/20 [==============================] - 0s 6ms/step - loss: 0.0625 - accuracy: 0.9788 - val_loss: 1.9009 - val_accuracy: 0.6948\n",
            "Epoch 55/100\n",
            "20/20 [==============================] - 0s 5ms/step - loss: 0.0351 - accuracy: 0.9886 - val_loss: 1.8825 - val_accuracy: 0.6948\n",
            "Epoch 56/100\n",
            "20/20 [==============================] - 0s 6ms/step - loss: 0.0661 - accuracy: 0.9821 - val_loss: 2.0786 - val_accuracy: 0.6688\n",
            "Epoch 57/100\n",
            "20/20 [==============================] - 0s 7ms/step - loss: 0.0671 - accuracy: 0.9853 - val_loss: 1.7008 - val_accuracy: 0.7273\n",
            "Epoch 58/100\n",
            "20/20 [==============================] - 0s 5ms/step - loss: 0.0251 - accuracy: 0.9951 - val_loss: 1.7209 - val_accuracy: 0.7013\n",
            "Epoch 59/100\n",
            "20/20 [==============================] - 0s 6ms/step - loss: 0.0094 - accuracy: 1.0000 - val_loss: 1.8090 - val_accuracy: 0.6883\n",
            "Epoch 60/100\n",
            "20/20 [==============================] - 0s 6ms/step - loss: 0.0062 - accuracy: 1.0000 - val_loss: 1.9616 - val_accuracy: 0.7143\n",
            "Epoch 61/100\n",
            "20/20 [==============================] - 0s 5ms/step - loss: 0.0041 - accuracy: 1.0000 - val_loss: 2.0110 - val_accuracy: 0.7143\n",
            "Epoch 62/100\n",
            "20/20 [==============================] - 0s 6ms/step - loss: 0.0028 - accuracy: 1.0000 - val_loss: 2.0530 - val_accuracy: 0.7208\n",
            "Epoch 63/100\n",
            "20/20 [==============================] - 0s 5ms/step - loss: 0.0023 - accuracy: 1.0000 - val_loss: 2.1250 - val_accuracy: 0.7208\n",
            "Epoch 64/100\n",
            "20/20 [==============================] - 0s 6ms/step - loss: 0.0019 - accuracy: 1.0000 - val_loss: 2.1762 - val_accuracy: 0.7143\n",
            "Epoch 65/100\n",
            "20/20 [==============================] - 0s 8ms/step - loss: 0.0017 - accuracy: 1.0000 - val_loss: 2.2182 - val_accuracy: 0.7143\n",
            "Epoch 66/100\n",
            "20/20 [==============================] - 0s 6ms/step - loss: 0.0014 - accuracy: 1.0000 - val_loss: 2.2657 - val_accuracy: 0.7273\n",
            "Epoch 67/100\n",
            "20/20 [==============================] - 0s 6ms/step - loss: 0.0013 - accuracy: 1.0000 - val_loss: 2.2970 - val_accuracy: 0.7143\n",
            "Epoch 68/100\n",
            "20/20 [==============================] - 0s 5ms/step - loss: 0.0011 - accuracy: 1.0000 - val_loss: 2.3280 - val_accuracy: 0.7143\n",
            "Epoch 69/100\n",
            "20/20 [==============================] - 0s 5ms/step - loss: 0.0011 - accuracy: 1.0000 - val_loss: 2.3574 - val_accuracy: 0.7078\n",
            "Epoch 70/100\n",
            "20/20 [==============================] - 0s 6ms/step - loss: 9.5271e-04 - accuracy: 1.0000 - val_loss: 2.3856 - val_accuracy: 0.7143\n",
            "Epoch 71/100\n",
            "20/20 [==============================] - 0s 6ms/step - loss: 8.9210e-04 - accuracy: 1.0000 - val_loss: 2.4167 - val_accuracy: 0.7208\n",
            "Epoch 72/100\n",
            "20/20 [==============================] - 0s 5ms/step - loss: 7.9215e-04 - accuracy: 1.0000 - val_loss: 2.4415 - val_accuracy: 0.7078\n",
            "Epoch 73/100\n",
            "20/20 [==============================] - 0s 7ms/step - loss: 7.4432e-04 - accuracy: 1.0000 - val_loss: 2.4613 - val_accuracy: 0.7078\n",
            "Epoch 74/100\n",
            "20/20 [==============================] - 0s 6ms/step - loss: 6.7410e-04 - accuracy: 1.0000 - val_loss: 2.4918 - val_accuracy: 0.7208\n",
            "Epoch 75/100\n",
            "20/20 [==============================] - 0s 8ms/step - loss: 8.3873e-04 - accuracy: 1.0000 - val_loss: 2.5187 - val_accuracy: 0.7143\n",
            "Epoch 76/100\n",
            "20/20 [==============================] - 0s 8ms/step - loss: 6.2894e-04 - accuracy: 1.0000 - val_loss: 2.5295 - val_accuracy: 0.7078\n",
            "Epoch 77/100\n",
            "20/20 [==============================] - 0s 7ms/step - loss: 5.4220e-04 - accuracy: 1.0000 - val_loss: 2.5606 - val_accuracy: 0.7143\n",
            "Epoch 78/100\n",
            "20/20 [==============================] - 0s 8ms/step - loss: 5.1375e-04 - accuracy: 1.0000 - val_loss: 2.5785 - val_accuracy: 0.7078\n",
            "Epoch 79/100\n",
            "20/20 [==============================] - 0s 8ms/step - loss: 4.6867e-04 - accuracy: 1.0000 - val_loss: 2.5989 - val_accuracy: 0.7013\n",
            "Epoch 80/100\n",
            "20/20 [==============================] - 0s 8ms/step - loss: 4.5467e-04 - accuracy: 1.0000 - val_loss: 2.6209 - val_accuracy: 0.7013\n",
            "Epoch 81/100\n",
            "20/20 [==============================] - 0s 7ms/step - loss: 4.2103e-04 - accuracy: 1.0000 - val_loss: 2.6357 - val_accuracy: 0.7078\n",
            "Epoch 82/100\n",
            "20/20 [==============================] - 0s 7ms/step - loss: 3.9907e-04 - accuracy: 1.0000 - val_loss: 2.6544 - val_accuracy: 0.7143\n",
            "Epoch 83/100\n",
            "20/20 [==============================] - 0s 7ms/step - loss: 3.9070e-04 - accuracy: 1.0000 - val_loss: 2.6693 - val_accuracy: 0.7078\n",
            "Epoch 84/100\n",
            "20/20 [==============================] - 0s 7ms/step - loss: 3.6435e-04 - accuracy: 1.0000 - val_loss: 2.6907 - val_accuracy: 0.7143\n",
            "Epoch 85/100\n",
            "20/20 [==============================] - 0s 8ms/step - loss: 3.5021e-04 - accuracy: 1.0000 - val_loss: 2.7059 - val_accuracy: 0.7143\n",
            "Epoch 86/100\n",
            "20/20 [==============================] - 0s 10ms/step - loss: 3.3381e-04 - accuracy: 1.0000 - val_loss: 2.7212 - val_accuracy: 0.7143\n",
            "Epoch 87/100\n",
            "20/20 [==============================] - 0s 7ms/step - loss: 3.2843e-04 - accuracy: 1.0000 - val_loss: 2.7455 - val_accuracy: 0.7143\n",
            "Epoch 88/100\n",
            "20/20 [==============================] - 0s 8ms/step - loss: 3.2148e-04 - accuracy: 1.0000 - val_loss: 2.7542 - val_accuracy: 0.7143\n",
            "Epoch 89/100\n",
            "20/20 [==============================] - 0s 8ms/step - loss: 2.8824e-04 - accuracy: 1.0000 - val_loss: 2.7659 - val_accuracy: 0.7078\n",
            "Epoch 90/100\n",
            "20/20 [==============================] - 0s 8ms/step - loss: 2.7537e-04 - accuracy: 1.0000 - val_loss: 2.7768 - val_accuracy: 0.7078\n",
            "Epoch 91/100\n",
            "20/20 [==============================] - 0s 12ms/step - loss: 2.6510e-04 - accuracy: 1.0000 - val_loss: 2.7920 - val_accuracy: 0.7143\n",
            "Epoch 92/100\n",
            "20/20 [==============================] - 0s 9ms/step - loss: 2.5389e-04 - accuracy: 1.0000 - val_loss: 2.8086 - val_accuracy: 0.7078\n",
            "Epoch 93/100\n",
            "20/20 [==============================] - 0s 9ms/step - loss: 2.4396e-04 - accuracy: 1.0000 - val_loss: 2.8190 - val_accuracy: 0.7078\n",
            "Epoch 94/100\n",
            "20/20 [==============================] - 0s 8ms/step - loss: 2.3520e-04 - accuracy: 1.0000 - val_loss: 2.8322 - val_accuracy: 0.7078\n",
            "Epoch 95/100\n",
            "20/20 [==============================] - 0s 7ms/step - loss: 2.2528e-04 - accuracy: 1.0000 - val_loss: 2.8469 - val_accuracy: 0.7143\n",
            "Epoch 96/100\n",
            "20/20 [==============================] - 0s 6ms/step - loss: 2.2109e-04 - accuracy: 1.0000 - val_loss: 2.8609 - val_accuracy: 0.7143\n",
            "Epoch 97/100\n",
            "20/20 [==============================] - 0s 7ms/step - loss: 2.0747e-04 - accuracy: 1.0000 - val_loss: 2.8712 - val_accuracy: 0.7078\n",
            "Epoch 98/100\n",
            "20/20 [==============================] - 0s 6ms/step - loss: 2.0305e-04 - accuracy: 1.0000 - val_loss: 2.8816 - val_accuracy: 0.7078\n",
            "Epoch 99/100\n",
            "20/20 [==============================] - 0s 5ms/step - loss: 1.9602e-04 - accuracy: 1.0000 - val_loss: 2.8946 - val_accuracy: 0.7078\n",
            "Epoch 100/100\n",
            "20/20 [==============================] - 0s 5ms/step - loss: 1.8768e-04 - accuracy: 1.0000 - val_loss: 2.9061 - val_accuracy: 0.7078\n"
          ]
        },
        {
          "output_type": "execute_result",
          "data": {
            "text/plain": [
              "<keras.src.callbacks.History at 0x7e5e0968ffd0>"
            ]
          },
          "metadata": {},
          "execution_count": 75
        }
      ]
    },
    {
      "cell_type": "code",
      "source": [
        "!pip install -U keras-tuner"
      ],
      "metadata": {
        "colab": {
          "base_uri": "https://localhost:8080/"
        },
        "id": "nZJYJ7vKnnQZ",
        "outputId": "081cdcb3-8f62-4c43-fce1-6167da84f261"
      },
      "execution_count": null,
      "outputs": [
        {
          "output_type": "stream",
          "name": "stdout",
          "text": [
            "Collecting keras-tuner\n",
            "  Downloading keras_tuner-1.4.7-py3-none-any.whl (129 kB)\n",
            "\u001b[?25l     \u001b[90m━━━━━━━━━━━━━━━━━━━━━━━━━━━━━━━━━━━━━━━━\u001b[0m \u001b[32m0.0/129.1 kB\u001b[0m \u001b[31m?\u001b[0m eta \u001b[36m-:--:--\u001b[0m\r\u001b[2K     \u001b[90m━━━━━━━━━━━━━━━━━━━━━━━━━━━━━━━━━━━━━━━━\u001b[0m \u001b[32m129.1/129.1 kB\u001b[0m \u001b[31m4.3 MB/s\u001b[0m eta \u001b[36m0:00:00\u001b[0m\n",
            "\u001b[?25hRequirement already satisfied: keras in /usr/local/lib/python3.10/dist-packages (from keras-tuner) (2.15.0)\n",
            "Requirement already satisfied: packaging in /usr/local/lib/python3.10/dist-packages (from keras-tuner) (24.1)\n",
            "Requirement already satisfied: requests in /usr/local/lib/python3.10/dist-packages (from keras-tuner) (2.31.0)\n",
            "Collecting kt-legacy (from keras-tuner)\n",
            "  Downloading kt_legacy-1.0.5-py3-none-any.whl (9.6 kB)\n",
            "Requirement already satisfied: charset-normalizer<4,>=2 in /usr/local/lib/python3.10/dist-packages (from requests->keras-tuner) (3.3.2)\n",
            "Requirement already satisfied: idna<4,>=2.5 in /usr/local/lib/python3.10/dist-packages (from requests->keras-tuner) (3.7)\n",
            "Requirement already satisfied: urllib3<3,>=1.21.1 in /usr/local/lib/python3.10/dist-packages (from requests->keras-tuner) (2.0.7)\n",
            "Requirement already satisfied: certifi>=2017.4.17 in /usr/local/lib/python3.10/dist-packages (from requests->keras-tuner) (2024.6.2)\n",
            "Installing collected packages: kt-legacy, keras-tuner\n",
            "Successfully installed keras-tuner-1.4.7 kt-legacy-1.0.5\n"
          ]
        }
      ]
    },
    {
      "cell_type": "code",
      "source": [
        "import kerastuner as kt\n",
        "from tensorflow.keras.layers import Dropout\n",
        "def build_model_new(hp):\n",
        "  model=Sequential()\n",
        "  counter=0\n",
        "  for i in range(hp.Int('num_layers',min_value=1,max_value=10)):\n",
        "    if counter==0:\n",
        "      model.add(\n",
        "          Dense(\n",
        "            hp.Int('units'+str(i),min_value=8,max_value=128,step=8),\n",
        "            activation=hp.Choice('activation'+str(i),values=['relu','tanh','rmsprop','adam']),\n",
        "            input_dim=8\n",
        "            )\n",
        "        )\n",
        "      model.add(Dropout(hp.Choice('droupout',values=[0.1,0.2,0.3,0.4,0.5,0.6,0.7,0.8,0.9])))\n",
        "    else:\n",
        "        model.add(\n",
        "          Dense(\n",
        "            hp.Int('units'+str(i),min_value=8,max_value=128,step=8),\n",
        "            activation=hp.Choice('activation'+str(i),values=['relu','tanh','rmsprop','adam'])\n",
        "            )\n",
        "        )\n",
        "    counter+=1\n",
        "  model.add(Dense(1,activation='sigmoid'))\n",
        "  model.compile(optimizer=hp.Choice('optimizer_new',values=['adam','rmsprop','sgd','nadam']),loss='binary_crossentropy',metrics=['accuracy'])\n",
        "  return model"
      ],
      "metadata": {
        "colab": {
          "base_uri": "https://localhost:8080/"
        },
        "id": "AYfqOmnwdLAh",
        "outputId": "053f8cd2-c332-46db-d12c-484266c9bc58"
      },
      "execution_count": null,
      "outputs": [
        {
          "output_type": "stream",
          "name": "stderr",
          "text": [
            "<ipython-input-22-5d4e415bb3b0>:1: DeprecationWarning: `import kerastuner` is deprecated, please use `import keras_tuner`.\n",
            "  import kerastuner as kt\n"
          ]
        }
      ]
    },
    {
      "cell_type": "code",
      "source": [
        "tuner=kt.RandomSearch(build_model_new,objective='val_accuracy',max_trials=3,\n",
        "                      directory='my_dir',project_name='final')"
      ],
      "metadata": {
        "id": "-4M6EHVVgJ6N"
      },
      "execution_count": null,
      "outputs": []
    },
    {
      "cell_type": "code",
      "source": [
        "tuner.search(X_train,y_train,epochs=5,validation_data=(X_test,y_test))"
      ],
      "metadata": {
        "colab": {
          "base_uri": "https://localhost:8080/"
        },
        "id": "U1UjQRf8gddB",
        "outputId": "a3cdf32e-81ff-4240-b11e-669f5b44747d"
      },
      "execution_count": null,
      "outputs": [
        {
          "output_type": "stream",
          "name": "stdout",
          "text": [
            "Trial 3 Complete [00h 00m 00s]\n",
            "\n",
            "Best val_accuracy So Far: 0.7662337422370911\n",
            "Total elapsed time: 00h 00m 06s\n"
          ]
        }
      ]
    },
    {
      "cell_type": "code",
      "source": [
        "tuner.get_best_hyperparameters()[0].values"
      ],
      "metadata": {
        "colab": {
          "base_uri": "https://localhost:8080/"
        },
        "id": "wzY2gSGthO0w",
        "outputId": "ec8fdf7c-fceb-4e8f-beee-6a709daa8c72"
      },
      "execution_count": null,
      "outputs": [
        {
          "output_type": "execute_result",
          "data": {
            "text/plain": [
              "{'num_layers': 2,\n",
              " 'units0': 88,\n",
              " 'activation0': 'relu',\n",
              " 'droupout': 0.7,\n",
              " 'optimizer_new': 'adam',\n",
              " 'units1': 8,\n",
              " 'activation1': 'relu'}"
            ]
          },
          "metadata": {},
          "execution_count": 26
        }
      ]
    },
    {
      "cell_type": "code",
      "source": [
        "model=tuner.get_best_models(num_models=1)[0]"
      ],
      "metadata": {
        "id": "2X4JWWLlhVcQ"
      },
      "execution_count": null,
      "outputs": []
    },
    {
      "cell_type": "code",
      "source": [
        "model.fit(X_train,y_train,batch_size=32,epochs=200,initial_epoch=6,validation_data=(X_test,y_test))"
      ],
      "metadata": {
        "colab": {
          "base_uri": "https://localhost:8080/"
        },
        "id": "_a70_R6JhkHo",
        "outputId": "34e866e1-dd9a-4eca-c563-1fcb51233498"
      },
      "execution_count": null,
      "outputs": [
        {
          "output_type": "stream",
          "name": "stdout",
          "text": [
            "Epoch 7/200\n",
            "20/20 [==============================] - 1s 14ms/step - loss: 0.6018 - accuracy: 0.7020 - val_loss: 0.5634 - val_accuracy: 0.7468\n",
            "Epoch 8/200\n",
            "20/20 [==============================] - 0s 5ms/step - loss: 0.5836 - accuracy: 0.6906 - val_loss: 0.5384 - val_accuracy: 0.7532\n",
            "Epoch 9/200\n",
            "20/20 [==============================] - 0s 5ms/step - loss: 0.5638 - accuracy: 0.7166 - val_loss: 0.5274 - val_accuracy: 0.7532\n",
            "Epoch 10/200\n",
            "20/20 [==============================] - 0s 6ms/step - loss: 0.5299 - accuracy: 0.7264 - val_loss: 0.5187 - val_accuracy: 0.7338\n",
            "Epoch 11/200\n",
            "20/20 [==============================] - 0s 6ms/step - loss: 0.5492 - accuracy: 0.7068 - val_loss: 0.5148 - val_accuracy: 0.7273\n",
            "Epoch 12/200\n",
            "20/20 [==============================] - 0s 5ms/step - loss: 0.5122 - accuracy: 0.7199 - val_loss: 0.5102 - val_accuracy: 0.7338\n",
            "Epoch 13/200\n",
            "20/20 [==============================] - 0s 6ms/step - loss: 0.5033 - accuracy: 0.7508 - val_loss: 0.5080 - val_accuracy: 0.7338\n",
            "Epoch 14/200\n",
            "20/20 [==============================] - 0s 6ms/step - loss: 0.4930 - accuracy: 0.7557 - val_loss: 0.5063 - val_accuracy: 0.7468\n",
            "Epoch 15/200\n",
            "20/20 [==============================] - 0s 6ms/step - loss: 0.4784 - accuracy: 0.7752 - val_loss: 0.5059 - val_accuracy: 0.7468\n",
            "Epoch 16/200\n",
            "20/20 [==============================] - 0s 6ms/step - loss: 0.4780 - accuracy: 0.7590 - val_loss: 0.5066 - val_accuracy: 0.7338\n",
            "Epoch 17/200\n",
            "20/20 [==============================] - 0s 6ms/step - loss: 0.4782 - accuracy: 0.7704 - val_loss: 0.5058 - val_accuracy: 0.7403\n",
            "Epoch 18/200\n",
            "20/20 [==============================] - 0s 5ms/step - loss: 0.4803 - accuracy: 0.7606 - val_loss: 0.5056 - val_accuracy: 0.7403\n",
            "Epoch 19/200\n",
            "20/20 [==============================] - 0s 7ms/step - loss: 0.4863 - accuracy: 0.7524 - val_loss: 0.5069 - val_accuracy: 0.7403\n",
            "Epoch 20/200\n",
            "20/20 [==============================] - 0s 8ms/step - loss: 0.4913 - accuracy: 0.7345 - val_loss: 0.5063 - val_accuracy: 0.7338\n",
            "Epoch 21/200\n",
            "20/20 [==============================] - 0s 8ms/step - loss: 0.4756 - accuracy: 0.7704 - val_loss: 0.5084 - val_accuracy: 0.7403\n",
            "Epoch 22/200\n",
            "20/20 [==============================] - 0s 8ms/step - loss: 0.4861 - accuracy: 0.7704 - val_loss: 0.5086 - val_accuracy: 0.7403\n",
            "Epoch 23/200\n",
            "20/20 [==============================] - 0s 8ms/step - loss: 0.4815 - accuracy: 0.7492 - val_loss: 0.5097 - val_accuracy: 0.7403\n",
            "Epoch 24/200\n",
            "20/20 [==============================] - 0s 7ms/step - loss: 0.4617 - accuracy: 0.7671 - val_loss: 0.5089 - val_accuracy: 0.7532\n",
            "Epoch 25/200\n",
            "20/20 [==============================] - 0s 10ms/step - loss: 0.4599 - accuracy: 0.7785 - val_loss: 0.5101 - val_accuracy: 0.7468\n",
            "Epoch 26/200\n",
            "20/20 [==============================] - 0s 9ms/step - loss: 0.4842 - accuracy: 0.7573 - val_loss: 0.5108 - val_accuracy: 0.7468\n",
            "Epoch 27/200\n",
            "20/20 [==============================] - 0s 7ms/step - loss: 0.4703 - accuracy: 0.7899 - val_loss: 0.5120 - val_accuracy: 0.7468\n",
            "Epoch 28/200\n",
            "20/20 [==============================] - 0s 7ms/step - loss: 0.4701 - accuracy: 0.7590 - val_loss: 0.5141 - val_accuracy: 0.7468\n",
            "Epoch 29/200\n",
            "20/20 [==============================] - 0s 9ms/step - loss: 0.4562 - accuracy: 0.7590 - val_loss: 0.5134 - val_accuracy: 0.7468\n",
            "Epoch 30/200\n",
            "20/20 [==============================] - 0s 7ms/step - loss: 0.4897 - accuracy: 0.7704 - val_loss: 0.5109 - val_accuracy: 0.7468\n",
            "Epoch 31/200\n",
            "20/20 [==============================] - 0s 9ms/step - loss: 0.4658 - accuracy: 0.7736 - val_loss: 0.5102 - val_accuracy: 0.7468\n",
            "Epoch 32/200\n",
            "20/20 [==============================] - 0s 8ms/step - loss: 0.4752 - accuracy: 0.7687 - val_loss: 0.5107 - val_accuracy: 0.7468\n",
            "Epoch 33/200\n",
            "20/20 [==============================] - 0s 8ms/step - loss: 0.4809 - accuracy: 0.7590 - val_loss: 0.5087 - val_accuracy: 0.7532\n",
            "Epoch 34/200\n",
            "20/20 [==============================] - 0s 7ms/step - loss: 0.4646 - accuracy: 0.7801 - val_loss: 0.5076 - val_accuracy: 0.7662\n",
            "Epoch 35/200\n",
            "20/20 [==============================] - 0s 8ms/step - loss: 0.4633 - accuracy: 0.7850 - val_loss: 0.5109 - val_accuracy: 0.7468\n",
            "Epoch 36/200\n",
            "20/20 [==============================] - 0s 9ms/step - loss: 0.4603 - accuracy: 0.7948 - val_loss: 0.5118 - val_accuracy: 0.7468\n",
            "Epoch 37/200\n",
            "20/20 [==============================] - 0s 9ms/step - loss: 0.4738 - accuracy: 0.7590 - val_loss: 0.5131 - val_accuracy: 0.7403\n",
            "Epoch 38/200\n",
            "20/20 [==============================] - 0s 6ms/step - loss: 0.4843 - accuracy: 0.7769 - val_loss: 0.5142 - val_accuracy: 0.7403\n",
            "Epoch 39/200\n",
            "20/20 [==============================] - 0s 6ms/step - loss: 0.4697 - accuracy: 0.7671 - val_loss: 0.5158 - val_accuracy: 0.7468\n",
            "Epoch 40/200\n",
            "20/20 [==============================] - 0s 6ms/step - loss: 0.4582 - accuracy: 0.7818 - val_loss: 0.5158 - val_accuracy: 0.7532\n",
            "Epoch 41/200\n",
            "20/20 [==============================] - 0s 6ms/step - loss: 0.4546 - accuracy: 0.7720 - val_loss: 0.5167 - val_accuracy: 0.7532\n",
            "Epoch 42/200\n",
            "20/20 [==============================] - 0s 6ms/step - loss: 0.4607 - accuracy: 0.7785 - val_loss: 0.5172 - val_accuracy: 0.7468\n",
            "Epoch 43/200\n",
            "20/20 [==============================] - 0s 5ms/step - loss: 0.4601 - accuracy: 0.7736 - val_loss: 0.5170 - val_accuracy: 0.7468\n",
            "Epoch 44/200\n",
            "20/20 [==============================] - 0s 5ms/step - loss: 0.4609 - accuracy: 0.7720 - val_loss: 0.5156 - val_accuracy: 0.7532\n",
            "Epoch 45/200\n",
            "20/20 [==============================] - 0s 6ms/step - loss: 0.4780 - accuracy: 0.7671 - val_loss: 0.5133 - val_accuracy: 0.7532\n",
            "Epoch 46/200\n",
            "20/20 [==============================] - 0s 6ms/step - loss: 0.4627 - accuracy: 0.7899 - val_loss: 0.5126 - val_accuracy: 0.7532\n",
            "Epoch 47/200\n",
            "20/20 [==============================] - 0s 6ms/step - loss: 0.4516 - accuracy: 0.7752 - val_loss: 0.5120 - val_accuracy: 0.7532\n",
            "Epoch 48/200\n",
            "20/20 [==============================] - 0s 6ms/step - loss: 0.4665 - accuracy: 0.7736 - val_loss: 0.5134 - val_accuracy: 0.7532\n",
            "Epoch 49/200\n",
            "20/20 [==============================] - 0s 5ms/step - loss: 0.4508 - accuracy: 0.7818 - val_loss: 0.5140 - val_accuracy: 0.7597\n",
            "Epoch 50/200\n",
            "20/20 [==============================] - 0s 6ms/step - loss: 0.4505 - accuracy: 0.7769 - val_loss: 0.5146 - val_accuracy: 0.7532\n",
            "Epoch 51/200\n",
            "20/20 [==============================] - 0s 5ms/step - loss: 0.4682 - accuracy: 0.7801 - val_loss: 0.5159 - val_accuracy: 0.7532\n",
            "Epoch 52/200\n",
            "20/20 [==============================] - 0s 6ms/step - loss: 0.4468 - accuracy: 0.7801 - val_loss: 0.5168 - val_accuracy: 0.7532\n",
            "Epoch 53/200\n",
            "20/20 [==============================] - 0s 6ms/step - loss: 0.4629 - accuracy: 0.7883 - val_loss: 0.5174 - val_accuracy: 0.7532\n",
            "Epoch 54/200\n",
            "20/20 [==============================] - 0s 6ms/step - loss: 0.4434 - accuracy: 0.7915 - val_loss: 0.5179 - val_accuracy: 0.7532\n",
            "Epoch 55/200\n",
            "20/20 [==============================] - 0s 6ms/step - loss: 0.4662 - accuracy: 0.7704 - val_loss: 0.5192 - val_accuracy: 0.7532\n",
            "Epoch 56/200\n",
            "20/20 [==============================] - 0s 6ms/step - loss: 0.4650 - accuracy: 0.7752 - val_loss: 0.5181 - val_accuracy: 0.7532\n",
            "Epoch 57/200\n",
            "20/20 [==============================] - 0s 5ms/step - loss: 0.4598 - accuracy: 0.7704 - val_loss: 0.5186 - val_accuracy: 0.7532\n",
            "Epoch 58/200\n",
            "20/20 [==============================] - 0s 5ms/step - loss: 0.4384 - accuracy: 0.7818 - val_loss: 0.5203 - val_accuracy: 0.7532\n",
            "Epoch 59/200\n",
            "20/20 [==============================] - 0s 6ms/step - loss: 0.4491 - accuracy: 0.7883 - val_loss: 0.5213 - val_accuracy: 0.7532\n",
            "Epoch 60/200\n",
            "20/20 [==============================] - 0s 5ms/step - loss: 0.4520 - accuracy: 0.7932 - val_loss: 0.5240 - val_accuracy: 0.7532\n",
            "Epoch 61/200\n",
            "20/20 [==============================] - 0s 6ms/step - loss: 0.4492 - accuracy: 0.7752 - val_loss: 0.5260 - val_accuracy: 0.7468\n",
            "Epoch 62/200\n",
            "20/20 [==============================] - 0s 7ms/step - loss: 0.4495 - accuracy: 0.7818 - val_loss: 0.5264 - val_accuracy: 0.7468\n",
            "Epoch 63/200\n",
            "20/20 [==============================] - 0s 5ms/step - loss: 0.4588 - accuracy: 0.7736 - val_loss: 0.5248 - val_accuracy: 0.7468\n",
            "Epoch 64/200\n",
            "20/20 [==============================] - 0s 5ms/step - loss: 0.4400 - accuracy: 0.7834 - val_loss: 0.5253 - val_accuracy: 0.7468\n",
            "Epoch 65/200\n",
            "20/20 [==============================] - 0s 5ms/step - loss: 0.4675 - accuracy: 0.7638 - val_loss: 0.5256 - val_accuracy: 0.7468\n",
            "Epoch 66/200\n",
            "20/20 [==============================] - 0s 5ms/step - loss: 0.4437 - accuracy: 0.7785 - val_loss: 0.5249 - val_accuracy: 0.7532\n",
            "Epoch 67/200\n",
            "20/20 [==============================] - 0s 5ms/step - loss: 0.4234 - accuracy: 0.7899 - val_loss: 0.5249 - val_accuracy: 0.7532\n",
            "Epoch 68/200\n",
            "20/20 [==============================] - 0s 6ms/step - loss: 0.4589 - accuracy: 0.7687 - val_loss: 0.5264 - val_accuracy: 0.7532\n",
            "Epoch 69/200\n",
            "20/20 [==============================] - 0s 5ms/step - loss: 0.4521 - accuracy: 0.7785 - val_loss: 0.5271 - val_accuracy: 0.7532\n",
            "Epoch 70/200\n",
            "20/20 [==============================] - 0s 6ms/step - loss: 0.4489 - accuracy: 0.7964 - val_loss: 0.5287 - val_accuracy: 0.7403\n",
            "Epoch 71/200\n",
            "20/20 [==============================] - 0s 6ms/step - loss: 0.4525 - accuracy: 0.7769 - val_loss: 0.5309 - val_accuracy: 0.7403\n",
            "Epoch 72/200\n",
            "20/20 [==============================] - 0s 5ms/step - loss: 0.4591 - accuracy: 0.7785 - val_loss: 0.5301 - val_accuracy: 0.7403\n",
            "Epoch 73/200\n",
            "20/20 [==============================] - 0s 5ms/step - loss: 0.4301 - accuracy: 0.7932 - val_loss: 0.5314 - val_accuracy: 0.7403\n",
            "Epoch 74/200\n",
            "20/20 [==============================] - 0s 6ms/step - loss: 0.4461 - accuracy: 0.7866 - val_loss: 0.5316 - val_accuracy: 0.7532\n",
            "Epoch 75/200\n",
            "20/20 [==============================] - 0s 5ms/step - loss: 0.4463 - accuracy: 0.7899 - val_loss: 0.5297 - val_accuracy: 0.7597\n",
            "Epoch 76/200\n",
            "20/20 [==============================] - 0s 6ms/step - loss: 0.4311 - accuracy: 0.7866 - val_loss: 0.5301 - val_accuracy: 0.7532\n",
            "Epoch 77/200\n",
            "20/20 [==============================] - 0s 6ms/step - loss: 0.4466 - accuracy: 0.7850 - val_loss: 0.5303 - val_accuracy: 0.7532\n",
            "Epoch 78/200\n",
            "20/20 [==============================] - 0s 5ms/step - loss: 0.4408 - accuracy: 0.7980 - val_loss: 0.5314 - val_accuracy: 0.7532\n",
            "Epoch 79/200\n",
            "20/20 [==============================] - 0s 7ms/step - loss: 0.4537 - accuracy: 0.7964 - val_loss: 0.5307 - val_accuracy: 0.7468\n",
            "Epoch 80/200\n",
            "20/20 [==============================] - 0s 5ms/step - loss: 0.4518 - accuracy: 0.7948 - val_loss: 0.5290 - val_accuracy: 0.7468\n",
            "Epoch 81/200\n",
            "20/20 [==============================] - 0s 6ms/step - loss: 0.4389 - accuracy: 0.7818 - val_loss: 0.5299 - val_accuracy: 0.7468\n",
            "Epoch 82/200\n",
            "20/20 [==============================] - 0s 6ms/step - loss: 0.4535 - accuracy: 0.7964 - val_loss: 0.5294 - val_accuracy: 0.7468\n",
            "Epoch 83/200\n",
            "20/20 [==============================] - 0s 5ms/step - loss: 0.4583 - accuracy: 0.7671 - val_loss: 0.5284 - val_accuracy: 0.7468\n",
            "Epoch 84/200\n",
            "20/20 [==============================] - 0s 5ms/step - loss: 0.4345 - accuracy: 0.7964 - val_loss: 0.5274 - val_accuracy: 0.7532\n",
            "Epoch 85/200\n",
            "20/20 [==============================] - 0s 6ms/step - loss: 0.4316 - accuracy: 0.7932 - val_loss: 0.5266 - val_accuracy: 0.7597\n",
            "Epoch 86/200\n",
            "20/20 [==============================] - 0s 6ms/step - loss: 0.4343 - accuracy: 0.7850 - val_loss: 0.5269 - val_accuracy: 0.7597\n",
            "Epoch 87/200\n",
            "20/20 [==============================] - 0s 6ms/step - loss: 0.4387 - accuracy: 0.7866 - val_loss: 0.5276 - val_accuracy: 0.7597\n",
            "Epoch 88/200\n",
            "20/20 [==============================] - 0s 6ms/step - loss: 0.4283 - accuracy: 0.7948 - val_loss: 0.5272 - val_accuracy: 0.7597\n",
            "Epoch 89/200\n",
            "20/20 [==============================] - 0s 6ms/step - loss: 0.4402 - accuracy: 0.7980 - val_loss: 0.5261 - val_accuracy: 0.7597\n",
            "Epoch 90/200\n",
            "20/20 [==============================] - 0s 5ms/step - loss: 0.4439 - accuracy: 0.7704 - val_loss: 0.5263 - val_accuracy: 0.7532\n",
            "Epoch 91/200\n",
            "20/20 [==============================] - 0s 6ms/step - loss: 0.4411 - accuracy: 0.7785 - val_loss: 0.5255 - val_accuracy: 0.7597\n",
            "Epoch 92/200\n",
            "20/20 [==============================] - 0s 6ms/step - loss: 0.4255 - accuracy: 0.7964 - val_loss: 0.5253 - val_accuracy: 0.7597\n",
            "Epoch 93/200\n",
            "20/20 [==============================] - 0s 5ms/step - loss: 0.4269 - accuracy: 0.8013 - val_loss: 0.5259 - val_accuracy: 0.7662\n",
            "Epoch 94/200\n",
            "20/20 [==============================] - 0s 5ms/step - loss: 0.4327 - accuracy: 0.7850 - val_loss: 0.5280 - val_accuracy: 0.7662\n",
            "Epoch 95/200\n",
            "20/20 [==============================] - 0s 6ms/step - loss: 0.4386 - accuracy: 0.7866 - val_loss: 0.5290 - val_accuracy: 0.7597\n",
            "Epoch 96/200\n",
            "20/20 [==============================] - 0s 7ms/step - loss: 0.4450 - accuracy: 0.7948 - val_loss: 0.5306 - val_accuracy: 0.7597\n",
            "Epoch 97/200\n",
            "20/20 [==============================] - 0s 6ms/step - loss: 0.4342 - accuracy: 0.7964 - val_loss: 0.5312 - val_accuracy: 0.7597\n",
            "Epoch 98/200\n",
            "20/20 [==============================] - 0s 6ms/step - loss: 0.4250 - accuracy: 0.7899 - val_loss: 0.5308 - val_accuracy: 0.7662\n",
            "Epoch 99/200\n",
            "20/20 [==============================] - 0s 6ms/step - loss: 0.4341 - accuracy: 0.7964 - val_loss: 0.5319 - val_accuracy: 0.7662\n",
            "Epoch 100/200\n",
            "20/20 [==============================] - 0s 5ms/step - loss: 0.4362 - accuracy: 0.7785 - val_loss: 0.5309 - val_accuracy: 0.7662\n",
            "Epoch 101/200\n",
            "20/20 [==============================] - 0s 5ms/step - loss: 0.4405 - accuracy: 0.8013 - val_loss: 0.5325 - val_accuracy: 0.7662\n",
            "Epoch 102/200\n",
            "20/20 [==============================] - 0s 6ms/step - loss: 0.4387 - accuracy: 0.8013 - val_loss: 0.5345 - val_accuracy: 0.7597\n",
            "Epoch 103/200\n",
            "20/20 [==============================] - 0s 6ms/step - loss: 0.4304 - accuracy: 0.7899 - val_loss: 0.5334 - val_accuracy: 0.7597\n",
            "Epoch 104/200\n",
            "20/20 [==============================] - 0s 6ms/step - loss: 0.4541 - accuracy: 0.7785 - val_loss: 0.5341 - val_accuracy: 0.7597\n",
            "Epoch 105/200\n",
            "20/20 [==============================] - 0s 6ms/step - loss: 0.4299 - accuracy: 0.7997 - val_loss: 0.5342 - val_accuracy: 0.7597\n",
            "Epoch 106/200\n",
            "20/20 [==============================] - 0s 6ms/step - loss: 0.4290 - accuracy: 0.7932 - val_loss: 0.5332 - val_accuracy: 0.7597\n",
            "Epoch 107/200\n",
            "20/20 [==============================] - 0s 5ms/step - loss: 0.4301 - accuracy: 0.7948 - val_loss: 0.5347 - val_accuracy: 0.7597\n",
            "Epoch 108/200\n",
            "20/20 [==============================] - 0s 5ms/step - loss: 0.4285 - accuracy: 0.7915 - val_loss: 0.5365 - val_accuracy: 0.7532\n",
            "Epoch 109/200\n",
            "20/20 [==============================] - 0s 6ms/step - loss: 0.4378 - accuracy: 0.7883 - val_loss: 0.5385 - val_accuracy: 0.7662\n",
            "Epoch 110/200\n",
            "20/20 [==============================] - 0s 5ms/step - loss: 0.4443 - accuracy: 0.7980 - val_loss: 0.5397 - val_accuracy: 0.7662\n",
            "Epoch 111/200\n",
            "20/20 [==============================] - 0s 7ms/step - loss: 0.4313 - accuracy: 0.8029 - val_loss: 0.5366 - val_accuracy: 0.7662\n",
            "Epoch 112/200\n",
            "20/20 [==============================] - 0s 6ms/step - loss: 0.4265 - accuracy: 0.8078 - val_loss: 0.5350 - val_accuracy: 0.7597\n",
            "Epoch 113/200\n",
            "20/20 [==============================] - 0s 6ms/step - loss: 0.4123 - accuracy: 0.7948 - val_loss: 0.5362 - val_accuracy: 0.7597\n",
            "Epoch 114/200\n",
            "20/20 [==============================] - 0s 6ms/step - loss: 0.4298 - accuracy: 0.7932 - val_loss: 0.5366 - val_accuracy: 0.7662\n",
            "Epoch 115/200\n",
            "20/20 [==============================] - 0s 6ms/step - loss: 0.4213 - accuracy: 0.8062 - val_loss: 0.5370 - val_accuracy: 0.7662\n",
            "Epoch 116/200\n",
            "20/20 [==============================] - 0s 5ms/step - loss: 0.4300 - accuracy: 0.8078 - val_loss: 0.5381 - val_accuracy: 0.7662\n",
            "Epoch 117/200\n",
            "20/20 [==============================] - 0s 5ms/step - loss: 0.4237 - accuracy: 0.8013 - val_loss: 0.5385 - val_accuracy: 0.7662\n",
            "Epoch 118/200\n",
            "20/20 [==============================] - 0s 6ms/step - loss: 0.4428 - accuracy: 0.7932 - val_loss: 0.5383 - val_accuracy: 0.7597\n",
            "Epoch 119/200\n",
            "20/20 [==============================] - 0s 6ms/step - loss: 0.4404 - accuracy: 0.7899 - val_loss: 0.5379 - val_accuracy: 0.7597\n",
            "Epoch 120/200\n",
            "20/20 [==============================] - 0s 6ms/step - loss: 0.4345 - accuracy: 0.7948 - val_loss: 0.5367 - val_accuracy: 0.7662\n",
            "Epoch 121/200\n",
            "20/20 [==============================] - 0s 7ms/step - loss: 0.4288 - accuracy: 0.8029 - val_loss: 0.5371 - val_accuracy: 0.7597\n",
            "Epoch 122/200\n",
            "20/20 [==============================] - 0s 6ms/step - loss: 0.4251 - accuracy: 0.7785 - val_loss: 0.5382 - val_accuracy: 0.7532\n",
            "Epoch 123/200\n",
            "20/20 [==============================] - 0s 8ms/step - loss: 0.4288 - accuracy: 0.7932 - val_loss: 0.5387 - val_accuracy: 0.7597\n",
            "Epoch 124/200\n",
            "20/20 [==============================] - 0s 8ms/step - loss: 0.4347 - accuracy: 0.7932 - val_loss: 0.5387 - val_accuracy: 0.7597\n",
            "Epoch 125/200\n",
            "20/20 [==============================] - 0s 8ms/step - loss: 0.4271 - accuracy: 0.7899 - val_loss: 0.5395 - val_accuracy: 0.7597\n",
            "Epoch 126/200\n",
            "20/20 [==============================] - 0s 7ms/step - loss: 0.4391 - accuracy: 0.7948 - val_loss: 0.5400 - val_accuracy: 0.7662\n",
            "Epoch 127/200\n",
            "20/20 [==============================] - 0s 8ms/step - loss: 0.4270 - accuracy: 0.7997 - val_loss: 0.5407 - val_accuracy: 0.7662\n",
            "Epoch 128/200\n",
            "20/20 [==============================] - 0s 8ms/step - loss: 0.4248 - accuracy: 0.7834 - val_loss: 0.5401 - val_accuracy: 0.7662\n",
            "Epoch 129/200\n",
            "20/20 [==============================] - 0s 7ms/step - loss: 0.4433 - accuracy: 0.7915 - val_loss: 0.5408 - val_accuracy: 0.7662\n",
            "Epoch 130/200\n",
            "20/20 [==============================] - 0s 7ms/step - loss: 0.4336 - accuracy: 0.7915 - val_loss: 0.5403 - val_accuracy: 0.7727\n",
            "Epoch 131/200\n",
            "20/20 [==============================] - 0s 8ms/step - loss: 0.4316 - accuracy: 0.7801 - val_loss: 0.5402 - val_accuracy: 0.7662\n",
            "Epoch 132/200\n",
            "20/20 [==============================] - 0s 8ms/step - loss: 0.4252 - accuracy: 0.8078 - val_loss: 0.5433 - val_accuracy: 0.7662\n",
            "Epoch 133/200\n",
            "20/20 [==============================] - 0s 9ms/step - loss: 0.4362 - accuracy: 0.7866 - val_loss: 0.5436 - val_accuracy: 0.7662\n",
            "Epoch 134/200\n",
            "20/20 [==============================] - 0s 10ms/step - loss: 0.4361 - accuracy: 0.7801 - val_loss: 0.5451 - val_accuracy: 0.7662\n",
            "Epoch 135/200\n",
            "20/20 [==============================] - 0s 8ms/step - loss: 0.4280 - accuracy: 0.7915 - val_loss: 0.5438 - val_accuracy: 0.7727\n",
            "Epoch 136/200\n",
            "20/20 [==============================] - 0s 7ms/step - loss: 0.4295 - accuracy: 0.8160 - val_loss: 0.5435 - val_accuracy: 0.7727\n",
            "Epoch 137/200\n",
            "20/20 [==============================] - 0s 8ms/step - loss: 0.4329 - accuracy: 0.7883 - val_loss: 0.5445 - val_accuracy: 0.7727\n",
            "Epoch 138/200\n",
            "20/20 [==============================] - 0s 10ms/step - loss: 0.4319 - accuracy: 0.7915 - val_loss: 0.5460 - val_accuracy: 0.7727\n",
            "Epoch 139/200\n",
            "20/20 [==============================] - 0s 11ms/step - loss: 0.4293 - accuracy: 0.7866 - val_loss: 0.5461 - val_accuracy: 0.7662\n",
            "Epoch 140/200\n",
            "20/20 [==============================] - 0s 7ms/step - loss: 0.4304 - accuracy: 0.7932 - val_loss: 0.5457 - val_accuracy: 0.7597\n",
            "Epoch 141/200\n",
            "20/20 [==============================] - 0s 5ms/step - loss: 0.4357 - accuracy: 0.8111 - val_loss: 0.5455 - val_accuracy: 0.7727\n",
            "Epoch 142/200\n",
            "20/20 [==============================] - 0s 5ms/step - loss: 0.4092 - accuracy: 0.7980 - val_loss: 0.5487 - val_accuracy: 0.7662\n",
            "Epoch 143/200\n",
            "20/20 [==============================] - 0s 5ms/step - loss: 0.4361 - accuracy: 0.7899 - val_loss: 0.5481 - val_accuracy: 0.7597\n",
            "Epoch 144/200\n",
            "20/20 [==============================] - 0s 5ms/step - loss: 0.4308 - accuracy: 0.8029 - val_loss: 0.5457 - val_accuracy: 0.7532\n",
            "Epoch 145/200\n",
            "20/20 [==============================] - 0s 5ms/step - loss: 0.4323 - accuracy: 0.8127 - val_loss: 0.5461 - val_accuracy: 0.7532\n",
            "Epoch 146/200\n",
            "20/20 [==============================] - 0s 6ms/step - loss: 0.4325 - accuracy: 0.7818 - val_loss: 0.5482 - val_accuracy: 0.7532\n",
            "Epoch 147/200\n",
            "20/20 [==============================] - 0s 7ms/step - loss: 0.4335 - accuracy: 0.7964 - val_loss: 0.5472 - val_accuracy: 0.7532\n",
            "Epoch 148/200\n",
            "20/20 [==============================] - 0s 5ms/step - loss: 0.4443 - accuracy: 0.7915 - val_loss: 0.5455 - val_accuracy: 0.7532\n",
            "Epoch 149/200\n",
            "20/20 [==============================] - 0s 6ms/step - loss: 0.4278 - accuracy: 0.8062 - val_loss: 0.5464 - val_accuracy: 0.7532\n",
            "Epoch 150/200\n",
            "20/20 [==============================] - 0s 5ms/step - loss: 0.4291 - accuracy: 0.7932 - val_loss: 0.5463 - val_accuracy: 0.7532\n",
            "Epoch 151/200\n",
            "20/20 [==============================] - 0s 5ms/step - loss: 0.4349 - accuracy: 0.8029 - val_loss: 0.5451 - val_accuracy: 0.7597\n",
            "Epoch 152/200\n",
            "20/20 [==============================] - 0s 5ms/step - loss: 0.4146 - accuracy: 0.7915 - val_loss: 0.5463 - val_accuracy: 0.7597\n",
            "Epoch 153/200\n",
            "20/20 [==============================] - 0s 5ms/step - loss: 0.4377 - accuracy: 0.7883 - val_loss: 0.5499 - val_accuracy: 0.7597\n",
            "Epoch 154/200\n",
            "20/20 [==============================] - 0s 6ms/step - loss: 0.4188 - accuracy: 0.8062 - val_loss: 0.5504 - val_accuracy: 0.7597\n",
            "Epoch 155/200\n",
            "20/20 [==============================] - 0s 8ms/step - loss: 0.4181 - accuracy: 0.8046 - val_loss: 0.5496 - val_accuracy: 0.7662\n",
            "Epoch 156/200\n",
            "20/20 [==============================] - 0s 6ms/step - loss: 0.4171 - accuracy: 0.8029 - val_loss: 0.5500 - val_accuracy: 0.7597\n",
            "Epoch 157/200\n",
            "20/20 [==============================] - 0s 6ms/step - loss: 0.4258 - accuracy: 0.7818 - val_loss: 0.5492 - val_accuracy: 0.7532\n",
            "Epoch 158/200\n",
            "20/20 [==============================] - 0s 5ms/step - loss: 0.3940 - accuracy: 0.8029 - val_loss: 0.5521 - val_accuracy: 0.7532\n",
            "Epoch 159/200\n",
            "20/20 [==============================] - 0s 6ms/step - loss: 0.4224 - accuracy: 0.8111 - val_loss: 0.5518 - val_accuracy: 0.7532\n",
            "Epoch 160/200\n",
            "20/20 [==============================] - 0s 5ms/step - loss: 0.4409 - accuracy: 0.7948 - val_loss: 0.5490 - val_accuracy: 0.7597\n",
            "Epoch 161/200\n",
            "20/20 [==============================] - 0s 5ms/step - loss: 0.4096 - accuracy: 0.7883 - val_loss: 0.5480 - val_accuracy: 0.7597\n",
            "Epoch 162/200\n",
            "20/20 [==============================] - 0s 5ms/step - loss: 0.4035 - accuracy: 0.8127 - val_loss: 0.5548 - val_accuracy: 0.7597\n",
            "Epoch 163/200\n",
            "20/20 [==============================] - 0s 5ms/step - loss: 0.4147 - accuracy: 0.8078 - val_loss: 0.5575 - val_accuracy: 0.7597\n",
            "Epoch 164/200\n",
            "20/20 [==============================] - 0s 7ms/step - loss: 0.4347 - accuracy: 0.7785 - val_loss: 0.5569 - val_accuracy: 0.7532\n",
            "Epoch 165/200\n",
            "20/20 [==============================] - 0s 5ms/step - loss: 0.4224 - accuracy: 0.7866 - val_loss: 0.5571 - val_accuracy: 0.7532\n",
            "Epoch 166/200\n",
            "20/20 [==============================] - 0s 6ms/step - loss: 0.4232 - accuracy: 0.7915 - val_loss: 0.5571 - val_accuracy: 0.7597\n",
            "Epoch 167/200\n",
            "20/20 [==============================] - 0s 5ms/step - loss: 0.4139 - accuracy: 0.8127 - val_loss: 0.5581 - val_accuracy: 0.7597\n",
            "Epoch 168/200\n",
            "20/20 [==============================] - 0s 5ms/step - loss: 0.4293 - accuracy: 0.7899 - val_loss: 0.5584 - val_accuracy: 0.7662\n",
            "Epoch 169/200\n",
            "20/20 [==============================] - 0s 5ms/step - loss: 0.4355 - accuracy: 0.7883 - val_loss: 0.5552 - val_accuracy: 0.7597\n",
            "Epoch 170/200\n",
            "20/20 [==============================] - 0s 5ms/step - loss: 0.4220 - accuracy: 0.8078 - val_loss: 0.5544 - val_accuracy: 0.7532\n",
            "Epoch 171/200\n",
            "20/20 [==============================] - 0s 5ms/step - loss: 0.4216 - accuracy: 0.7964 - val_loss: 0.5542 - val_accuracy: 0.7597\n",
            "Epoch 172/200\n",
            "20/20 [==============================] - 0s 6ms/step - loss: 0.4305 - accuracy: 0.7883 - val_loss: 0.5555 - val_accuracy: 0.7662\n",
            "Epoch 173/200\n",
            "20/20 [==============================] - 0s 6ms/step - loss: 0.4116 - accuracy: 0.7964 - val_loss: 0.5561 - val_accuracy: 0.7662\n",
            "Epoch 174/200\n",
            "20/20 [==============================] - 0s 5ms/step - loss: 0.4243 - accuracy: 0.7850 - val_loss: 0.5563 - val_accuracy: 0.7662\n",
            "Epoch 175/200\n",
            "20/20 [==============================] - 0s 6ms/step - loss: 0.4124 - accuracy: 0.8046 - val_loss: 0.5505 - val_accuracy: 0.7597\n",
            "Epoch 176/200\n",
            "20/20 [==============================] - 0s 5ms/step - loss: 0.4306 - accuracy: 0.7997 - val_loss: 0.5527 - val_accuracy: 0.7597\n",
            "Epoch 177/200\n",
            "20/20 [==============================] - 0s 5ms/step - loss: 0.4179 - accuracy: 0.7915 - val_loss: 0.5539 - val_accuracy: 0.7597\n",
            "Epoch 178/200\n",
            "20/20 [==============================] - 0s 5ms/step - loss: 0.4242 - accuracy: 0.7948 - val_loss: 0.5567 - val_accuracy: 0.7532\n",
            "Epoch 179/200\n",
            "20/20 [==============================] - 0s 5ms/step - loss: 0.4111 - accuracy: 0.8046 - val_loss: 0.5557 - val_accuracy: 0.7532\n",
            "Epoch 180/200\n",
            "20/20 [==============================] - 0s 6ms/step - loss: 0.4070 - accuracy: 0.8176 - val_loss: 0.5581 - val_accuracy: 0.7597\n",
            "Epoch 181/200\n",
            "20/20 [==============================] - 0s 7ms/step - loss: 0.4279 - accuracy: 0.7980 - val_loss: 0.5597 - val_accuracy: 0.7532\n",
            "Epoch 182/200\n",
            "20/20 [==============================] - 0s 5ms/step - loss: 0.4318 - accuracy: 0.7866 - val_loss: 0.5589 - val_accuracy: 0.7597\n",
            "Epoch 183/200\n",
            "20/20 [==============================] - 0s 6ms/step - loss: 0.4234 - accuracy: 0.7980 - val_loss: 0.5573 - val_accuracy: 0.7662\n",
            "Epoch 184/200\n",
            "20/20 [==============================] - 0s 6ms/step - loss: 0.4104 - accuracy: 0.8160 - val_loss: 0.5574 - val_accuracy: 0.7597\n",
            "Epoch 185/200\n",
            "20/20 [==============================] - 0s 5ms/step - loss: 0.4296 - accuracy: 0.8078 - val_loss: 0.5582 - val_accuracy: 0.7597\n",
            "Epoch 186/200\n",
            "20/20 [==============================] - 0s 6ms/step - loss: 0.4265 - accuracy: 0.8127 - val_loss: 0.5571 - val_accuracy: 0.7727\n",
            "Epoch 187/200\n",
            "20/20 [==============================] - 0s 6ms/step - loss: 0.4055 - accuracy: 0.8094 - val_loss: 0.5565 - val_accuracy: 0.7532\n",
            "Epoch 188/200\n",
            "20/20 [==============================] - 0s 6ms/step - loss: 0.4356 - accuracy: 0.7980 - val_loss: 0.5550 - val_accuracy: 0.7597\n",
            "Epoch 189/200\n",
            "20/20 [==============================] - 0s 7ms/step - loss: 0.4220 - accuracy: 0.7997 - val_loss: 0.5536 - val_accuracy: 0.7532\n",
            "Epoch 190/200\n",
            "20/20 [==============================] - 0s 6ms/step - loss: 0.4139 - accuracy: 0.7948 - val_loss: 0.5544 - val_accuracy: 0.7532\n",
            "Epoch 191/200\n",
            "20/20 [==============================] - 0s 5ms/step - loss: 0.4130 - accuracy: 0.8013 - val_loss: 0.5551 - val_accuracy: 0.7662\n",
            "Epoch 192/200\n",
            "20/20 [==============================] - 0s 6ms/step - loss: 0.3975 - accuracy: 0.8046 - val_loss: 0.5534 - val_accuracy: 0.7662\n",
            "Epoch 193/200\n",
            "20/20 [==============================] - 0s 5ms/step - loss: 0.4233 - accuracy: 0.8029 - val_loss: 0.5550 - val_accuracy: 0.7597\n",
            "Epoch 194/200\n",
            "20/20 [==============================] - 0s 6ms/step - loss: 0.4180 - accuracy: 0.7834 - val_loss: 0.5562 - val_accuracy: 0.7597\n",
            "Epoch 195/200\n",
            "20/20 [==============================] - 0s 6ms/step - loss: 0.4184 - accuracy: 0.7752 - val_loss: 0.5557 - val_accuracy: 0.7662\n",
            "Epoch 196/200\n",
            "20/20 [==============================] - 0s 5ms/step - loss: 0.4268 - accuracy: 0.7997 - val_loss: 0.5527 - val_accuracy: 0.7727\n",
            "Epoch 197/200\n",
            "20/20 [==============================] - 0s 6ms/step - loss: 0.4110 - accuracy: 0.8029 - val_loss: 0.5526 - val_accuracy: 0.7597\n",
            "Epoch 198/200\n",
            "20/20 [==============================] - 0s 7ms/step - loss: 0.4193 - accuracy: 0.8062 - val_loss: 0.5497 - val_accuracy: 0.7727\n",
            "Epoch 199/200\n",
            "20/20 [==============================] - 0s 5ms/step - loss: 0.4117 - accuracy: 0.8111 - val_loss: 0.5531 - val_accuracy: 0.7727\n",
            "Epoch 200/200\n",
            "20/20 [==============================] - 0s 5ms/step - loss: 0.4205 - accuracy: 0.7964 - val_loss: 0.5528 - val_accuracy: 0.7662\n"
          ]
        },
        {
          "output_type": "execute_result",
          "data": {
            "text/plain": [
              "<keras.src.callbacks.History at 0x78f7d1343430>"
            ]
          },
          "metadata": {},
          "execution_count": 28
        }
      ]
    },
    {
      "cell_type": "code",
      "source": [],
      "metadata": {
        "id": "WeQbkGvcliUz"
      },
      "execution_count": null,
      "outputs": []
    }
  ]
}